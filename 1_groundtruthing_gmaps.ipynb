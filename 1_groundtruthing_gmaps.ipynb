{
 "cells": [
  {
   "cell_type": "markdown",
   "metadata": {},
   "source": [
    "# Groundtruthing using GMaps"
   ]
  },
  {
   "cell_type": "markdown",
   "metadata": {},
   "source": [
    "## Preparations"
   ]
  },
  {
   "cell_type": "markdown",
   "metadata": {},
   "source": [
    "modules"
   ]
  },
  {
   "cell_type": "code",
   "execution_count": 1,
   "metadata": {},
   "outputs": [],
   "source": [
    "import gmaps  # plotting locations on gmaps\n",
    "import ipywidgets  # plotting next to each other\n",
    "import pandas as pd  # working with dataframes\n",
    "from ipywidgets.embed import embed_minimal_html  # saving html files\n",
    "from helper_functions import (create_lat_long_tuples, aggregate_counts, \n",
    "                              extract_polygon)  # own functions"
   ]
  },
  {
   "cell_type": "markdown",
   "metadata": {},
   "source": [
    "options"
   ]
  },
  {
   "cell_type": "code",
   "execution_count": 2,
   "metadata": {},
   "outputs": [],
   "source": [
    "# automatic reloading of modules and functions before each cell\n",
    "%load_ext autoreload\n",
    "%autoreload 2"
   ]
  },
  {
   "cell_type": "code",
   "execution_count": 3,
   "metadata": {},
   "outputs": [],
   "source": [
    "# insert your own gmaps api key here\n",
    "api_key = ''"
   ]
  },
  {
   "cell_type": "markdown",
   "metadata": {},
   "source": [
    "loading data"
   ]
  },
  {
   "cell_type": "code",
   "execution_count": 4,
   "metadata": {},
   "outputs": [],
   "source": [
    "df = pd.read_csv('data/vienna_scooter_positions.csv', index_col=0)"
   ]
  },
  {
   "cell_type": "markdown",
   "metadata": {},
   "source": [
    "## Groundtruthing"
   ]
  },
  {
   "cell_type": "markdown",
   "metadata": {},
   "source": [
    "First we need to configure our API access and restrict to unique locations."
   ]
  },
  {
   "cell_type": "code",
   "execution_count": 5,
   "metadata": {},
   "outputs": [],
   "source": [
    "gmaps.configure(api_key=api_key)"
   ]
  },
  {
   "cell_type": "code",
   "execution_count": 6,
   "metadata": {},
   "outputs": [],
   "source": [
    "uloc = df[['id', 'lat', 'lon']].drop_duplicates()"
   ]
  },
  {
   "cell_type": "code",
   "execution_count": 7,
   "metadata": {},
   "outputs": [
    {
     "name": "stdout",
     "output_type": "stream",
     "text": [
      "We only have 58182 unique locations out of the 869641 observations.\n"
     ]
    }
   ],
   "source": [
    "print('We only have %s unique locations out of the %s observations.'%(len(uloc), len(df)))"
   ]
  },
  {
   "cell_type": "code",
   "execution_count": 8,
   "metadata": {},
   "outputs": [
    {
     "data": {
      "application/vnd.jupyter.widget-view+json": {
       "model_id": "1e7f03985ae44bad8c318f4f09d3eeb2",
       "version_major": 2,
       "version_minor": 0
      },
      "text/plain": [
       "Figure(layout=FigureLayout(height='420px'))"
      ]
     },
     "metadata": {},
     "output_type": "display_data"
    }
   ],
   "source": [
    "fig = gmaps.figure()\n",
    "fig.add_layer(gmaps.heatmap_layer(create_lat_long_tuples(uloc), \n",
    "                                  point_radius=7))\n",
    "embed_minimal_html('plots/all_obs.html', views=[fig])\n",
    "fig"
   ]
  },
  {
   "cell_type": "markdown",
   "metadata": {},
   "source": [
    "We can already se a couple of hotspots where there are many location-observations during the entire day. Interestingly enough this does not only concern the inner city, but als more distant places like e.g. Erdberg. According to https://en.wikipedia.org/wiki/Decimal_degrees 4 decimal places are sufficient to identify the street. We can use this to identify hotspots which hold the most scooters during the whole day."
   ]
  },
  {
   "cell_type": "code",
   "execution_count": 9,
   "metadata": {},
   "outputs": [],
   "source": [
    "hotspots_4dp = aggregate_counts(uloc, digits=4, newname='scooter_count')\\\n",
    "                                .sort_values('scooter_count', ascending=False)"
   ]
  },
  {
   "cell_type": "code",
   "execution_count": 10,
   "metadata": {},
   "outputs": [
    {
     "data": {
      "application/vnd.jupyter.widget-view+json": {
       "model_id": "26f15370e4654d2ab8d5ea9124e0dbb0",
       "version_major": 2,
       "version_minor": 0
      },
      "text/plain": [
       "Figure(layout=FigureLayout(height='420px'))"
      ]
     },
     "metadata": {},
     "output_type": "display_data"
    }
   ],
   "source": [
    "fig = gmaps.figure()\n",
    "fig.add_layer(gmaps.heatmap_layer(create_lat_long_tuples(hotspots_4dp[:3]), \n",
    "                                  weights=hotspots_4dp.scooter_count[:3],\n",
    "                                  point_radius=20))\n",
    "fig.add_layer(gmaps.traffic_layer())\n",
    "fig"
   ]
  },
  {
   "cell_type": "markdown",
   "metadata": {},
   "source": [
    "The top three hotspots are all in the western part of the city and not necessarily in the inner city. The *Vienna University*, the *Linke Wienzeile* close to Naschmarkt as well as the recreational area close to the *Burg*. **Third main finding**: Students seem to be a good target group."
   ]
  },
  {
   "cell_type": "code",
   "execution_count": 11,
   "metadata": {},
   "outputs": [
    {
     "data": {
      "text/plain": [
       "17354"
      ]
     },
     "execution_count": 11,
     "metadata": {},
     "output_type": "execute_result"
    }
   ],
   "source": [
    "len(hotspots_4dp)"
   ]
  },
  {
   "cell_type": "markdown",
   "metadata": {},
   "source": [
    "More than 17 thousand different districts or zones do not seem feasible for a daily reallocation to the best of my knowledge. For a scalable solution we will repeat the process for three decimal places."
   ]
  },
  {
   "cell_type": "code",
   "execution_count": 12,
   "metadata": {},
   "outputs": [],
   "source": [
    "hotspots_3dp = aggregate_counts(df, digits=3, newname='scooter_count')"
   ]
  },
  {
   "cell_type": "code",
   "execution_count": 13,
   "metadata": {},
   "outputs": [
    {
     "name": "stdout",
     "output_type": "stream",
     "text": [
      "This leaves us with 2050 unqiue locations.\n"
     ]
    }
   ],
   "source": [
    "print('This leaves us with %s unqiue locations.'%len(hotspots_3dp))"
   ]
  },
  {
   "cell_type": "markdown",
   "metadata": {},
   "source": [
    "This is a number of districts, we can classify inside an activity range, which has to potential to be a valuable input for reallocation. Keep in mind, we have 997 scooters in total to allocate into these locations, so a lot of them will be left empty."
   ]
  },
  {
   "cell_type": "markdown",
   "metadata": {},
   "source": [
    "Next question is, does this correspond to where the scooters are being placed in the morning and where they are being left in the evening? As a proxy to plot this we will use the first and the last observation of each scooter."
   ]
  },
  {
   "cell_type": "code",
   "execution_count": 14,
   "metadata": {},
   "outputs": [],
   "source": [
    "# first & last locations\n",
    "df_sorted = df.sort_values(['id', 'time']).reset_index(drop=True)\n",
    "floc = df_sorted.groupby('id').first()\n",
    "lloc = df_sorted.groupby('id').last()"
   ]
  },
  {
   "cell_type": "code",
   "execution_count": 15,
   "metadata": {},
   "outputs": [
    {
     "data": {
      "text/plain": [
       "True"
      ]
     },
     "execution_count": 15,
     "metadata": {},
     "output_type": "execute_result"
    }
   ],
   "source": [
    "len(floc) == len(lloc) == len(df.id.drop_duplicates())"
   ]
  },
  {
   "cell_type": "code",
   "execution_count": 16,
   "metadata": {},
   "outputs": [],
   "source": [
    "center = df_sorted[['lat', 'lon']].agg('median')"
   ]
  },
  {
   "cell_type": "code",
   "execution_count": 17,
   "metadata": {},
   "outputs": [
    {
     "data": {
      "application/vnd.jupyter.widget-view+json": {
       "model_id": "1eec7d55ce39473a94b9039415017c1f",
       "version_major": 2,
       "version_minor": 0
      },
      "text/plain": [
       "VBox(children=(HTML(value='<h2>First and last locations of scooters</h2>'), HBox(children=(Figure(layout=Figur…"
      ]
     },
     "metadata": {},
     "output_type": "display_data"
    }
   ],
   "source": [
    "fig1 = gmaps.figure(center=center, zoom_level=11)\n",
    "fig1.add_layer(gmaps.heatmap_layer(create_lat_long_tuples(floc), \n",
    "                                   point_radius=7))\n",
    "fig1.layout.width = '50%'\n",
    "fig2 = gmaps.figure(center=center, zoom_level=11)\n",
    "fig2.add_layer(gmaps.heatmap_layer(create_lat_long_tuples(lloc), \n",
    "                                   point_radius=7))\n",
    "fig2.layout.width = '50%'\n",
    "\n",
    "\n",
    "html_header = ipywidgets.HTML('<h2>First and last locations of scooters</h2>')\n",
    "ipywidgets.VBox([html_header, ipywidgets.HBox([fig1, fig2])])"
   ]
  },
  {
   "cell_type": "markdown",
   "metadata": {},
   "source": [
    "We can see that the scooters are more widely spread at the beginning of the day than at the end. A possible explanation could be that they are mostly being used to get into the city."
   ]
  },
  {
   "cell_type": "markdown",
   "metadata": {},
   "source": [
    "Now we want to combine this information and investigate the number of scooters in the morning to the number in the evening for the 2050 locations with three decimal places."
   ]
  },
  {
   "cell_type": "code",
   "execution_count": 18,
   "metadata": {},
   "outputs": [],
   "source": [
    "morning_count = aggregate_counts(floc, digits=3, newname='morning_count')\n",
    "evening_count = aggregate_counts(lloc, digits=3, newname='evening_count')"
   ]
  },
  {
   "cell_type": "code",
   "execution_count": 19,
   "metadata": {},
   "outputs": [],
   "source": [
    "locations_3dp = hotspots_3dp.merge(morning_count, how='outer', on=['lat', 'lon'])\\\n",
    "                            .merge(evening_count, how='outer', on=['lat', 'lon']).fillna(0)"
   ]
  },
  {
   "cell_type": "code",
   "execution_count": 20,
   "metadata": {},
   "outputs": [
    {
     "data": {
      "text/html": [
       "<div>\n",
       "<style scoped>\n",
       "    .dataframe tbody tr th:only-of-type {\n",
       "        vertical-align: middle;\n",
       "    }\n",
       "\n",
       "    .dataframe tbody tr th {\n",
       "        vertical-align: top;\n",
       "    }\n",
       "\n",
       "    .dataframe thead th {\n",
       "        text-align: right;\n",
       "    }\n",
       "</style>\n",
       "<table border=\"1\" class=\"dataframe\">\n",
       "  <thead>\n",
       "    <tr style=\"text-align: right;\">\n",
       "      <th></th>\n",
       "      <th>lat</th>\n",
       "      <th>lon</th>\n",
       "      <th>scooter_count</th>\n",
       "      <th>morning_count</th>\n",
       "      <th>evening_count</th>\n",
       "    </tr>\n",
       "  </thead>\n",
       "  <tbody>\n",
       "    <tr>\n",
       "      <th>0</th>\n",
       "      <td>48.185</td>\n",
       "      <td>16.416</td>\n",
       "      <td>2634</td>\n",
       "      <td>61.0</td>\n",
       "      <td>3.0</td>\n",
       "    </tr>\n",
       "    <tr>\n",
       "      <th>1</th>\n",
       "      <td>48.187</td>\n",
       "      <td>16.413</td>\n",
       "      <td>746</td>\n",
       "      <td>18.0</td>\n",
       "      <td>1.0</td>\n",
       "    </tr>\n",
       "    <tr>\n",
       "      <th>2</th>\n",
       "      <td>48.186</td>\n",
       "      <td>16.416</td>\n",
       "      <td>478</td>\n",
       "      <td>17.0</td>\n",
       "      <td>0.0</td>\n",
       "    </tr>\n",
       "    <tr>\n",
       "      <th>3</th>\n",
       "      <td>48.226</td>\n",
       "      <td>16.361</td>\n",
       "      <td>3234</td>\n",
       "      <td>13.0</td>\n",
       "      <td>5.0</td>\n",
       "    </tr>\n",
       "    <tr>\n",
       "      <th>4</th>\n",
       "      <td>48.200</td>\n",
       "      <td>16.365</td>\n",
       "      <td>1993</td>\n",
       "      <td>11.0</td>\n",
       "      <td>1.0</td>\n",
       "    </tr>\n",
       "  </tbody>\n",
       "</table>\n",
       "</div>"
      ],
      "text/plain": [
       "      lat     lon  scooter_count  morning_count  evening_count\n",
       "0  48.185  16.416           2634           61.0            3.0\n",
       "1  48.187  16.413            746           18.0            1.0\n",
       "2  48.186  16.416            478           17.0            0.0\n",
       "3  48.226  16.361           3234           13.0            5.0\n",
       "4  48.200  16.365           1993           11.0            1.0"
      ]
     },
     "execution_count": 20,
     "metadata": {},
     "output_type": "execute_result"
    }
   ],
   "source": [
    "locations_3dp.sort_values('morning_count', ascending=False, inplace=True)\n",
    "locations_3dp.reset_index(drop=True, inplace=True)\n",
    "locations_3dp.head()"
   ]
  },
  {
   "cell_type": "markdown",
   "metadata": {},
   "source": [
    "This is definitely a find. Locationa with high numbers of morning scooters also have a relatively high activity throughout the day. Unfortunately however, only few scooters remain once the day is over. Reallocating scooters back to these high activity areas is the **fourth action point**."
   ]
  },
  {
   "cell_type": "markdown",
   "metadata": {},
   "source": [
    "Let's have an examplatory look of how this area would look like in the first three polygons of a grid system."
   ]
  },
  {
   "cell_type": "code",
   "execution_count": 21,
   "metadata": {},
   "outputs": [],
   "source": [
    "pol1 = extract_polygon(locations_3dp, i=1, level=3, color='blue')\n",
    "pol2 = extract_polygon(locations_3dp, i=2, level=3, color='red')\n",
    "pol3 = extract_polygon(locations_3dp, i=3, level=3, color='green')"
   ]
  },
  {
   "cell_type": "code",
   "execution_count": 22,
   "metadata": {},
   "outputs": [
    {
     "data": {
      "application/vnd.jupyter.widget-view+json": {
       "model_id": "ff3b1bc544884caa86d2f0f7cc7ef31a",
       "version_major": 2,
       "version_minor": 0
      },
      "text/plain": [
       "Figure(layout=FigureLayout(height='420px'))"
      ]
     },
     "metadata": {},
     "output_type": "display_data"
    }
   ],
   "source": [
    "fig = gmaps.figure(center=pol1.path[0], zoom_level=15)\n",
    "fig.add_layer(gmaps.drawing_layer(features=[pol1, pol2, pol3],\n",
    "                                   show_controls=False))\n",
    "fig"
   ]
  },
  {
   "cell_type": "markdown",
   "metadata": {},
   "source": [
    "These allocation polygons combined with the domain knowledge of the operations team can be the base for a reallocation algorithm in the early hours of a day or even during low times of activity."
   ]
  },
  {
   "cell_type": "markdown",
   "metadata": {},
   "source": [
    "## Saving results"
   ]
  },
  {
   "cell_type": "markdown",
   "metadata": {},
   "source": [
    "Before we move to feature engineering for scooters and locations, we want to save our new dataframes.\n",
    "Additionally we already know the last location of each scooter, which will be helpful for relocating them over night."
   ]
  },
  {
   "cell_type": "code",
   "execution_count": 23,
   "metadata": {},
   "outputs": [],
   "source": [
    "scooter_lloc = lloc.drop('time', axis=1)\n",
    "scooter_lloc['lat'] = round(scooter_lloc['lat'], 3)\n",
    "scooter_lloc['lon'] = round(scooter_lloc['lon'], 3)"
   ]
  },
  {
   "cell_type": "code",
   "execution_count": 24,
   "metadata": {},
   "outputs": [
    {
     "data": {
      "text/plain": [
       "(997, 2)"
      ]
     },
     "execution_count": 24,
     "metadata": {},
     "output_type": "execute_result"
    }
   ],
   "source": [
    "scooter_lloc.shape"
   ]
  },
  {
   "cell_type": "code",
   "execution_count": 25,
   "metadata": {},
   "outputs": [],
   "source": [
    "locations_3dp.to_csv('data/locations_3dp.csv', index=False)\n",
    "df_sorted.to_csv('data/df_sorted.csv', index=False)\n",
    "scooter_lloc.to_csv('data/scooter_last_location.csv')"
   ]
  },
  {
   "cell_type": "code",
   "execution_count": null,
   "metadata": {},
   "outputs": [],
   "source": []
  }
 ],
 "metadata": {
  "kernelspec": {
   "display_name": "Python 3",
   "language": "python",
   "name": "python3"
  },
  "language_info": {
   "codemirror_mode": {
    "name": "ipython",
    "version": 3
   },
   "file_extension": ".py",
   "mimetype": "text/x-python",
   "name": "python",
   "nbconvert_exporter": "python",
   "pygments_lexer": "ipython3",
   "version": "3.6.5"
  }
 },
 "nbformat": 4,
 "nbformat_minor": 2
}
