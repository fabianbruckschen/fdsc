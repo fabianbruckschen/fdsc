{
 "cells": [
  {
   "cell_type": "markdown",
   "metadata": {},
   "source": [
    "# Preprocessing & EDA"
   ]
  },
  {
   "cell_type": "markdown",
   "metadata": {},
   "source": [
    "## Preparations"
   ]
  },
  {
   "cell_type": "markdown",
   "metadata": {},
   "source": [
    "modules"
   ]
  },
  {
   "cell_type": "code",
   "execution_count": 1,
   "metadata": {},
   "outputs": [],
   "source": [
    "import os  # interacting with the operating system\n",
    "import pandas as pd  # working with dataframes\n",
    "import numpy as np  # simple functions for vectors and matrices\n",
    "import matplotlib.pyplot as plt  # simple plotting\n",
    "from helper_functions import (transform_to_timestamp, \n",
    "                              extract_closest_hour) # own functions"
   ]
  },
  {
   "cell_type": "markdown",
   "metadata": {},
   "source": [
    "options"
   ]
  },
  {
   "cell_type": "code",
   "execution_count": 2,
   "metadata": {},
   "outputs": [],
   "source": [
    "# automatic reloading of modules and functions before each cell\n",
    "%load_ext autoreload\n",
    "%autoreload 2"
   ]
  },
  {
   "cell_type": "code",
   "execution_count": 3,
   "metadata": {},
   "outputs": [],
   "source": [
    "# plotting\n",
    "%matplotlib inline\n",
    "plt.style.use(['dark_background'])\n",
    "plt.rc('figure', figsize=(20.0, 10.0))"
   ]
  },
  {
   "cell_type": "code",
   "execution_count": 4,
   "metadata": {},
   "outputs": [],
   "source": [
    "# create dedicated folders for saving results if not yet existing\n",
    "for folder in ['data', 'plots']:\n",
    "    if not os.path.exists(folder):\n",
    "        os.makedirs(folder)"
   ]
  },
  {
   "cell_type": "markdown",
   "metadata": {},
   "source": [
    "loading data"
   ]
  },
  {
   "cell_type": "code",
   "execution_count": 5,
   "metadata": {},
   "outputs": [],
   "source": [
    "df = pd.read_csv('data/vienna_scooter_positions.csv', index_col=0)"
   ]
  },
  {
   "cell_type": "markdown",
   "metadata": {},
   "source": [
    "## Preprocessing"
   ]
  },
  {
   "cell_type": "code",
   "execution_count": 6,
   "metadata": {},
   "outputs": [
    {
     "data": {
      "text/plain": [
       "(869641, 4)"
      ]
     },
     "execution_count": 6,
     "metadata": {},
     "output_type": "execute_result"
    }
   ],
   "source": [
    "df.shape"
   ]
  },
  {
   "cell_type": "markdown",
   "metadata": {},
   "source": [
    "Our data holds almost 900,000 observations with 4 variables."
   ]
  },
  {
   "cell_type": "code",
   "execution_count": 7,
   "metadata": {},
   "outputs": [
    {
     "data": {
      "text/html": [
       "<div>\n",
       "<style scoped>\n",
       "    .dataframe tbody tr th:only-of-type {\n",
       "        vertical-align: middle;\n",
       "    }\n",
       "\n",
       "    .dataframe tbody tr th {\n",
       "        vertical-align: top;\n",
       "    }\n",
       "\n",
       "    .dataframe thead th {\n",
       "        text-align: right;\n",
       "    }\n",
       "</style>\n",
       "<table border=\"1\" class=\"dataframe\">\n",
       "  <thead>\n",
       "    <tr style=\"text-align: right;\">\n",
       "      <th></th>\n",
       "      <th>id</th>\n",
       "      <th>lat</th>\n",
       "      <th>lon</th>\n",
       "      <th>time</th>\n",
       "    </tr>\n",
       "  </thead>\n",
       "  <tbody>\n",
       "    <tr>\n",
       "      <th>0</th>\n",
       "      <td>EMTRPL</td>\n",
       "      <td>48.184833</td>\n",
       "      <td>16.416045</td>\n",
       "      <td>04:59:57</td>\n",
       "    </tr>\n",
       "    <tr>\n",
       "      <th>1</th>\n",
       "      <td>RSPUIN</td>\n",
       "      <td>48.220575</td>\n",
       "      <td>16.356078</td>\n",
       "      <td>04:59:57</td>\n",
       "    </tr>\n",
       "    <tr>\n",
       "      <th>2</th>\n",
       "      <td>LHCMAF</td>\n",
       "      <td>48.193983</td>\n",
       "      <td>16.399211</td>\n",
       "      <td>04:59:57</td>\n",
       "    </tr>\n",
       "    <tr>\n",
       "      <th>3</th>\n",
       "      <td>JZKAIQ</td>\n",
       "      <td>48.202690</td>\n",
       "      <td>16.393311</td>\n",
       "      <td>04:59:57</td>\n",
       "    </tr>\n",
       "    <tr>\n",
       "      <th>4</th>\n",
       "      <td>WHLPTK</td>\n",
       "      <td>48.226330</td>\n",
       "      <td>16.352546</td>\n",
       "      <td>04:59:57</td>\n",
       "    </tr>\n",
       "  </tbody>\n",
       "</table>\n",
       "</div>"
      ],
      "text/plain": [
       "       id        lat        lon      time\n",
       "0  EMTRPL  48.184833  16.416045  04:59:57\n",
       "1  RSPUIN  48.220575  16.356078  04:59:57\n",
       "2  LHCMAF  48.193983  16.399211  04:59:57\n",
       "3  JZKAIQ  48.202690  16.393311  04:59:57\n",
       "4  WHLPTK  48.226330  16.352546  04:59:57"
      ]
     },
     "execution_count": 7,
     "metadata": {},
     "output_type": "execute_result"
    }
   ],
   "source": [
    "df.head()"
   ]
  },
  {
   "cell_type": "markdown",
   "metadata": {},
   "source": [
    "The information we can use seems to be the following:\n",
    "- an anonymized id per scooter\n",
    "- a timestamp down to the second\n",
    "- the longitude and latitude coordinates for that particular timestamp\n",
    "\n",
    "Let's see how many unique scooters we have in our sample."
   ]
  },
  {
   "cell_type": "code",
   "execution_count": 8,
   "metadata": {},
   "outputs": [
    {
     "name": "stdout",
     "output_type": "stream",
     "text": [
      "Our sample holds 997 unique scooters.\n"
     ]
    }
   ],
   "source": [
    "print('Our sample holds %s unique scooters.'%len(df.id.drop_duplicates()))"
   ]
  },
  {
   "cell_type": "code",
   "execution_count": 9,
   "metadata": {},
   "outputs": [
    {
     "data": {
      "text/plain": [
       "id       object\n",
       "lat     float64\n",
       "lon     float64\n",
       "time     object\n",
       "dtype: object"
      ]
     },
     "execution_count": 9,
     "metadata": {},
     "output_type": "execute_result"
    }
   ],
   "source": [
    "df.dtypes"
   ]
  },
  {
   "cell_type": "code",
   "execution_count": 10,
   "metadata": {},
   "outputs": [
    {
     "data": {
      "text/plain": [
       "'04:59:57'"
      ]
     },
     "execution_count": 10,
     "metadata": {},
     "output_type": "execute_result"
    }
   ],
   "source": [
    "df.time[0]"
   ]
  },
  {
   "cell_type": "markdown",
   "metadata": {},
   "source": [
    "We need to transform the time column from a string value into a timestamp before we can further use it for our analysis. We therefore use one of our predefined functions from `helper_functions.py`."
   ]
  },
  {
   "cell_type": "code",
   "execution_count": 11,
   "metadata": {},
   "outputs": [],
   "source": [
    "df['time'] = df.time.map(transform_to_timestamp)"
   ]
  },
  {
   "cell_type": "code",
   "execution_count": 12,
   "metadata": {},
   "outputs": [
    {
     "data": {
      "text/plain": [
       "datetime.time(4, 59, 57)"
      ]
     },
     "execution_count": 12,
     "metadata": {},
     "output_type": "execute_result"
    }
   ],
   "source": [
    "df.time[0]"
   ]
  },
  {
   "cell_type": "markdown",
   "metadata": {},
   "source": [
    "## EDA"
   ]
  },
  {
   "cell_type": "markdown",
   "metadata": {},
   "source": [
    "It is time to focus on collecting intel about our dataset and answer questions like: How do the distributions per scooter and timestamp look like?\n",
    "\n",
    "To begin we create a dataframe on user level where we collect alltime information for each scooter, e.g. how many observations do we have."
   ]
  },
  {
   "cell_type": "code",
   "execution_count": 13,
   "metadata": {},
   "outputs": [],
   "source": [
    "df_scooter_level = df.id.value_counts().to_frame(name='n_seen')"
   ]
  },
  {
   "cell_type": "code",
   "execution_count": 14,
   "metadata": {},
   "outputs": [
    {
     "name": "stdout",
     "output_type": "stream",
     "text": [
      "        n_seen\n",
      "FPWXUQ     911\n",
      "NLMWIG     911\n",
      "ALUIQD     911\n",
      "RNUSIE     911\n",
      "JHQBFL     911\n",
      "        n_seen\n",
      "XMYZOP     260\n",
      "APUJCG     156\n",
      "HMVWTO     108\n",
      "YUDGAM      17\n",
      "LHCDGF       2\n"
     ]
    }
   ],
   "source": [
    "print(df_scooter_level[:5])\n",
    "print(df_scooter_level[-5:])"
   ]
  },
  {
   "cell_type": "code",
   "execution_count": 15,
   "metadata": {},
   "outputs": [
    {
     "data": {
      "text/plain": [
       "25"
      ]
     },
     "execution_count": 15,
     "metadata": {},
     "output_type": "execute_result"
    }
   ],
   "source": [
    "len(df_scooter_level[df_scooter_level.n_seen==911])"
   ]
  },
  {
   "cell_type": "markdown",
   "metadata": {},
   "source": [
    "The scooters have a wide range of observation counts. One is only seen as few as two times, on the other hand 25 scooters account for 911 observations each during that day. If each of these observations would be a different user/usage that would mean a new user every minute for those scooters. Timestamps range from 5 AM to a bit later than 9 PM, which means 16 hours or 960 minutes inside the time frame. As we lack the domain knowledge here if each new timestamp represents a new booking or user we need do dive deeper, checking out the coordinate changes."
   ]
  },
  {
   "cell_type": "code",
   "execution_count": 16,
   "metadata": {},
   "outputs": [
    {
     "data": {
      "text/html": [
       "<div>\n",
       "<style scoped>\n",
       "    .dataframe tbody tr th:only-of-type {\n",
       "        vertical-align: middle;\n",
       "    }\n",
       "\n",
       "    .dataframe tbody tr th {\n",
       "        vertical-align: top;\n",
       "    }\n",
       "\n",
       "    .dataframe thead th {\n",
       "        text-align: right;\n",
       "    }\n",
       "</style>\n",
       "<table border=\"1\" class=\"dataframe\">\n",
       "  <thead>\n",
       "    <tr style=\"text-align: right;\">\n",
       "      <th></th>\n",
       "      <th>id</th>\n",
       "      <th>lat</th>\n",
       "      <th>lon</th>\n",
       "      <th>time</th>\n",
       "    </tr>\n",
       "  </thead>\n",
       "  <tbody>\n",
       "    <tr>\n",
       "      <th>465</th>\n",
       "      <td>FPWXUQ</td>\n",
       "      <td>48.218206</td>\n",
       "      <td>16.393448</td>\n",
       "      <td>04:59:57</td>\n",
       "    </tr>\n",
       "    <tr>\n",
       "      <th>1152</th>\n",
       "      <td>FPWXUQ</td>\n",
       "      <td>48.218206</td>\n",
       "      <td>16.393448</td>\n",
       "      <td>05:00:59</td>\n",
       "    </tr>\n",
       "    <tr>\n",
       "      <th>1576</th>\n",
       "      <td>FPWXUQ</td>\n",
       "      <td>48.218206</td>\n",
       "      <td>16.393448</td>\n",
       "      <td>05:02:02</td>\n",
       "    </tr>\n",
       "    <tr>\n",
       "      <th>2222</th>\n",
       "      <td>FPWXUQ</td>\n",
       "      <td>48.218206</td>\n",
       "      <td>16.393448</td>\n",
       "      <td>05:03:05</td>\n",
       "    </tr>\n",
       "    <tr>\n",
       "      <th>3170</th>\n",
       "      <td>FPWXUQ</td>\n",
       "      <td>48.218206</td>\n",
       "      <td>16.393448</td>\n",
       "      <td>05:04:07</td>\n",
       "    </tr>\n",
       "    <tr>\n",
       "      <th>3953</th>\n",
       "      <td>FPWXUQ</td>\n",
       "      <td>48.218206</td>\n",
       "      <td>16.393448</td>\n",
       "      <td>05:05:10</td>\n",
       "    </tr>\n",
       "    <tr>\n",
       "      <th>4258</th>\n",
       "      <td>FPWXUQ</td>\n",
       "      <td>48.218206</td>\n",
       "      <td>16.393448</td>\n",
       "      <td>05:06:13</td>\n",
       "    </tr>\n",
       "    <tr>\n",
       "      <th>5212</th>\n",
       "      <td>FPWXUQ</td>\n",
       "      <td>48.218206</td>\n",
       "      <td>16.393448</td>\n",
       "      <td>05:07:16</td>\n",
       "    </tr>\n",
       "    <tr>\n",
       "      <th>5681</th>\n",
       "      <td>FPWXUQ</td>\n",
       "      <td>48.218206</td>\n",
       "      <td>16.393448</td>\n",
       "      <td>05:08:18</td>\n",
       "    </tr>\n",
       "    <tr>\n",
       "      <th>6366</th>\n",
       "      <td>FPWXUQ</td>\n",
       "      <td>48.218206</td>\n",
       "      <td>16.393448</td>\n",
       "      <td>05:09:21</td>\n",
       "    </tr>\n",
       "  </tbody>\n",
       "</table>\n",
       "</div>"
      ],
      "text/plain": [
       "          id        lat        lon      time\n",
       "465   FPWXUQ  48.218206  16.393448  04:59:57\n",
       "1152  FPWXUQ  48.218206  16.393448  05:00:59\n",
       "1576  FPWXUQ  48.218206  16.393448  05:02:02\n",
       "2222  FPWXUQ  48.218206  16.393448  05:03:05\n",
       "3170  FPWXUQ  48.218206  16.393448  05:04:07\n",
       "3953  FPWXUQ  48.218206  16.393448  05:05:10\n",
       "4258  FPWXUQ  48.218206  16.393448  05:06:13\n",
       "5212  FPWXUQ  48.218206  16.393448  05:07:16\n",
       "5681  FPWXUQ  48.218206  16.393448  05:08:18\n",
       "6366  FPWXUQ  48.218206  16.393448  05:09:21"
      ]
     },
     "execution_count": 16,
     "metadata": {},
     "output_type": "execute_result"
    }
   ],
   "source": [
    "df[df.id == df_scooter_level.index[0]].head(10)"
   ]
  },
  {
   "cell_type": "markdown",
   "metadata": {},
   "source": [
    "Since the coordinates are precise down to the 6th decimal, we can be quite sure it does not change location. Also see https://en.wikipedia.org/wiki/Decimal_degrees for this. Additionally we can see a *pinging* pattern every 62-63 seconds. So what is happening with the low frequency scooters?"
   ]
  },
  {
   "cell_type": "code",
   "execution_count": 17,
   "metadata": {},
   "outputs": [
    {
     "data": {
      "text/html": [
       "<div>\n",
       "<style scoped>\n",
       "    .dataframe tbody tr th:only-of-type {\n",
       "        vertical-align: middle;\n",
       "    }\n",
       "\n",
       "    .dataframe tbody tr th {\n",
       "        vertical-align: top;\n",
       "    }\n",
       "\n",
       "    .dataframe thead th {\n",
       "        text-align: right;\n",
       "    }\n",
       "</style>\n",
       "<table border=\"1\" class=\"dataframe\">\n",
       "  <thead>\n",
       "    <tr style=\"text-align: right;\">\n",
       "      <th></th>\n",
       "      <th>id</th>\n",
       "      <th>lat</th>\n",
       "      <th>lon</th>\n",
       "      <th>time</th>\n",
       "    </tr>\n",
       "  </thead>\n",
       "  <tbody>\n",
       "    <tr>\n",
       "      <th>44964</th>\n",
       "      <td>LHCDGF</td>\n",
       "      <td>48.191268</td>\n",
       "      <td>16.379278</td>\n",
       "      <td>05:57:29</td>\n",
       "    </tr>\n",
       "    <tr>\n",
       "      <th>45951</th>\n",
       "      <td>LHCDGF</td>\n",
       "      <td>48.191268</td>\n",
       "      <td>16.379278</td>\n",
       "      <td>05:58:32</td>\n",
       "    </tr>\n",
       "  </tbody>\n",
       "</table>\n",
       "</div>"
      ],
      "text/plain": [
       "           id        lat        lon      time\n",
       "44964  LHCDGF  48.191268  16.379278  05:57:29\n",
       "45951  LHCDGF  48.191268  16.379278  05:58:32"
      ]
     },
     "execution_count": 17,
     "metadata": {},
     "output_type": "execute_result"
    }
   ],
   "source": [
    "df[df.id == 'LHCDGF']"
   ]
  },
  {
   "cell_type": "markdown",
   "metadata": {},
   "source": [
    "First of all: **same pinging interval**, but solely once. We conclude that each ping does **not** signify a new rent action but the scooters just differ in when they are actively pinging. In order to identify a new usage we will focus on a change in coordinates as they are very granular.\n",
    "\n",
    "Therefore we define **unique_locations** as unique observations of exact locations. \n",
    "\n",
    "(Note: this is a simplification, as a scooter could be brought back to the exact same position, which we consider unlikely for now.)"
   ]
  },
  {
   "cell_type": "code",
   "execution_count": 18,
   "metadata": {},
   "outputs": [],
   "source": [
    "unique_locs = df.drop('time', axis=1).drop_duplicates().groupby('id')\\\n",
    "                .size().to_frame(name='unique_locs')"
   ]
  },
  {
   "cell_type": "code",
   "execution_count": 19,
   "metadata": {},
   "outputs": [
    {
     "data": {
      "text/html": [
       "<div>\n",
       "<style scoped>\n",
       "    .dataframe tbody tr th:only-of-type {\n",
       "        vertical-align: middle;\n",
       "    }\n",
       "\n",
       "    .dataframe tbody tr th {\n",
       "        vertical-align: top;\n",
       "    }\n",
       "\n",
       "    .dataframe thead th {\n",
       "        text-align: right;\n",
       "    }\n",
       "</style>\n",
       "<table border=\"1\" class=\"dataframe\">\n",
       "  <thead>\n",
       "    <tr style=\"text-align: right;\">\n",
       "      <th></th>\n",
       "      <th>unique_locs</th>\n",
       "    </tr>\n",
       "    <tr>\n",
       "      <th>id</th>\n",
       "      <th></th>\n",
       "    </tr>\n",
       "  </thead>\n",
       "  <tbody>\n",
       "    <tr>\n",
       "      <th>ABKIFV</th>\n",
       "      <td>60</td>\n",
       "    </tr>\n",
       "    <tr>\n",
       "      <th>ACODMP</th>\n",
       "      <td>146</td>\n",
       "    </tr>\n",
       "    <tr>\n",
       "      <th>ADIBPW</th>\n",
       "      <td>33</td>\n",
       "    </tr>\n",
       "    <tr>\n",
       "      <th>ADKPIH</th>\n",
       "      <td>46</td>\n",
       "    </tr>\n",
       "    <tr>\n",
       "      <th>ADULSM</th>\n",
       "      <td>44</td>\n",
       "    </tr>\n",
       "  </tbody>\n",
       "</table>\n",
       "</div>"
      ],
      "text/plain": [
       "        unique_locs\n",
       "id                 \n",
       "ABKIFV           60\n",
       "ACODMP          146\n",
       "ADIBPW           33\n",
       "ADKPIH           46\n",
       "ADULSM           44"
      ]
     },
     "execution_count": 19,
     "metadata": {},
     "output_type": "execute_result"
    }
   ],
   "source": [
    "unique_locs.head()"
   ]
  },
  {
   "cell_type": "code",
   "execution_count": 20,
   "metadata": {},
   "outputs": [
    {
     "data": {
      "text/plain": [
       "50.0"
      ]
     },
     "execution_count": 20,
     "metadata": {},
     "output_type": "execute_result"
    }
   ],
   "source": [
    "np.median(unique_locs)"
   ]
  },
  {
   "cell_type": "markdown",
   "metadata": {},
   "source": [
    "On average each scooter is at 50 different unique locations. Let's join it onto our alltime dataframe using the scooter id as index and plot its distribution."
   ]
  },
  {
   "cell_type": "code",
   "execution_count": 21,
   "metadata": {},
   "outputs": [],
   "source": [
    "df_scooter_level = df_scooter_level.merge(unique_locs, how='left',\n",
    "                                          left_index=True, \n",
    "                                          right_index=True).fillna(0)"
   ]
  },
  {
   "cell_type": "code",
   "execution_count": 22,
   "metadata": {},
   "outputs": [
    {
     "data": {
      "image/png": "[encoded data removed]",
      "text/plain": [
       "<Figure size 1440x720 with 1 Axes>"
      ]
     },
     "metadata": {},
     "output_type": "display_data"
    }
   ],
   "source": [
    "plt.hist(df_scooter_level.unique_locs, bins=130)\n",
    "plt.xlabel('Number of unique locations', fontsize = 15, fontweight='semibold')\n",
    "plt.ylabel('Number of scooters', fontsize = 15, fontweight='semibold')\n",
    "plt.savefig('plots/unique_locs_dist.png')\n",
    "plt.show()"
   ]
  },
  {
   "cell_type": "markdown",
   "metadata": {},
   "source": [
    "The number of different locations of scooters show a right-skewed distribution with a long right tail. That means there are a couple of scooters which are being used heavily compared to the median of 50 per day. It does make sense to look at where these heavily used scooters are being located inside the city. Also it seems we have a couple of scooters with no change in location, i.e. not being used even once."
   ]
  },
  {
   "cell_type": "code",
   "execution_count": 23,
   "metadata": {},
   "outputs": [
    {
     "name": "stdout",
     "output_type": "stream",
     "text": [
      "['VFQJBR', 'LHCDGF']\n"
     ]
    }
   ],
   "source": [
    "not_used = list(df_scooter_level[df_scooter_level.unique_locs==1].index)\n",
    "print(not_used)"
   ]
  },
  {
   "cell_type": "markdown",
   "metadata": {},
   "source": [
    "Two scooters have not changed location during the day at all. Under the assumption our sample represents a typical day, we want to redistribute these scooters with the highest urgency. This leads us to our **first main finding**."
   ]
  },
  {
   "cell_type": "markdown",
   "metadata": {},
   "source": [
    "Next we want to have a look at the distribution of uses over the day. Therefore we need to identify the last timestamp before a location change and save that into a dataframe on usage level."
   ]
  },
  {
   "cell_type": "code",
   "execution_count": 24,
   "metadata": {},
   "outputs": [],
   "source": [
    "df_usage_level = df.sort_values(['id', 'lat', 'lon'])\\\n",
    "                   .groupby(['id', 'lat', 'lon']).last()"
   ]
  },
  {
   "cell_type": "markdown",
   "metadata": {},
   "source": [
    "We also extract the hour of the rent begin and aggregate per hour of the day."
   ]
  },
  {
   "cell_type": "code",
   "execution_count": 25,
   "metadata": {},
   "outputs": [],
   "source": [
    "df_usage_level['hour'] = df_usage_level.time.map(extract_closest_hour)\n",
    "hour_of_day = df_usage_level.groupby('hour').size()"
   ]
  },
  {
   "cell_type": "code",
   "execution_count": 26,
   "metadata": {},
   "outputs": [
    {
     "data": {
      "image/png": "[encoded data removed]",
      "text/plain": [
       "<Figure size 1440x720 with 1 Axes>"
      ]
     },
     "metadata": {},
     "output_type": "display_data"
    }
   ],
   "source": [
    "plt.plot(list(hour_of_day.index), hour_of_day, marker='o', lw=3)\n",
    "plt.xlabel('Hour of the day', fontsize = 15, fontweight='semibold')\n",
    "plt.ylabel('Number of uses', fontsize = 15, fontweight='semibold')\n",
    "plt.xticks(ticks=list(hour_of_day.index))\n",
    "plt.savefig('plots/during_day_dist.png')\n",
    "plt.show()"
   ]
  },
  {
   "cell_type": "markdown",
   "metadata": {},
   "source": [
    "We can definitely identify peaks of higher usage, the highest being around 6 AM in the morning, maybe relocation, maybe rush hour. It is important that the scooters are being distributed optimally **before** that peak if it actually signifies uses. Other interesting peaks are around 8 AM, 11 AM to 12 PM and around 8 PM in the evening. Additionally there are also times of low frequency during working hours which might be suitable for smaller reallocations by the operations team during the day. This signifies our **second main finding**. Also we want to focus our relocation on the locations which are heavily frequented between 5 AM and 8:30 AM."
   ]
  },
  {
   "cell_type": "markdown",
   "metadata": {},
   "source": [
    "## Saving results"
   ]
  },
  {
   "cell_type": "markdown",
   "metadata": {},
   "source": [
    "Before we move on to groundtruthing the scooter locations inside Vienna we want to save our current findings."
   ]
  },
  {
   "cell_type": "code",
   "execution_count": 27,
   "metadata": {},
   "outputs": [],
   "source": [
    "df_scooter_level.to_csv('data/scooter_level.csv')"
   ]
  },
  {
   "cell_type": "code",
   "execution_count": null,
   "metadata": {},
   "outputs": [],
   "source": []
  }
 ],
 "metadata": {
  "kernelspec": {
   "display_name": "Python 3",
   "language": "python",
   "name": "python3"
  },
  "language_info": {
   "codemirror_mode": {
    "name": "ipython",
    "version": 3
   },
   "file_extension": ".py",
   "mimetype": "text/x-python",
   "name": "python",
   "nbconvert_exporter": "python",
   "pygments_lexer": "ipython3",
   "version": "3.6.5"
  }
 },
 "nbformat": 4,
 "nbformat_minor": 2
}
