{
 "cells": [
  {
   "cell_type": "markdown",
   "metadata": {},
   "source": [
    "# Feature Engineering (Scooter & Locations)"
   ]
  },
  {
   "cell_type": "markdown",
   "metadata": {},
   "source": [
    "## Preparations"
   ]
  },
  {
   "cell_type": "markdown",
   "metadata": {},
   "source": [
    "modules"
   ]
  },
  {
   "cell_type": "code",
   "execution_count": 1,
   "metadata": {},
   "outputs": [],
   "source": [
    "import pandas as pd  # working with dataframes\n",
    "from helper_functions import (transform_to_timestamp, isNaN, \n",
    "                              get_timedelta, calc_distance, \n",
    "                              zone_change, inside_timeframe)  # own functions"
   ]
  },
  {
   "cell_type": "markdown",
   "metadata": {},
   "source": [
    "options"
   ]
  },
  {
   "cell_type": "code",
   "execution_count": 2,
   "metadata": {},
   "outputs": [],
   "source": [
    "# automatic reloading of modules and functions before each cell\n",
    "%load_ext autoreload\n",
    "%autoreload 2"
   ]
  },
  {
   "cell_type": "markdown",
   "metadata": {},
   "source": [
    "loading data"
   ]
  },
  {
   "cell_type": "code",
   "execution_count": 3,
   "metadata": {},
   "outputs": [],
   "source": [
    "df_sorted = pd.read_csv('data/df_sorted.csv')\n",
    "df_sorted['time'] = df_sorted.time.map(transform_to_timestamp)\n",
    "df_scooter_level = pd.read_csv('data/scooter_level.csv', index_col=0)\n",
    "locations_3dp = pd.read_csv('data/locations_3dp.csv')"
   ]
  },
  {
   "cell_type": "markdown",
   "metadata": {},
   "source": [
    "## Feature Engineering"
   ]
  },
  {
   "cell_type": "markdown",
   "metadata": {},
   "source": [
    "### General"
   ]
  },
  {
   "cell_type": "markdown",
   "metadata": {},
   "source": [
    "#### parking time (scooters are not being used)"
   ]
  },
  {
   "cell_type": "code",
   "execution_count": 4,
   "metadata": {},
   "outputs": [],
   "source": [
    "df_sorted_shifted = df_sorted.shift(-1)\n",
    "df_sorted_shifted.columns = [x + '_shift' for x in list(df_sorted.columns)]"
   ]
  },
  {
   "cell_type": "code",
   "execution_count": 5,
   "metadata": {},
   "outputs": [
    {
     "data": {
      "text/plain": [
       "True"
      ]
     },
     "execution_count": 5,
     "metadata": {},
     "output_type": "execute_result"
    }
   ],
   "source": [
    "df_sorted.shape == df_sorted_shifted.shape"
   ]
  },
  {
   "cell_type": "code",
   "execution_count": 6,
   "metadata": {},
   "outputs": [],
   "source": [
    "df_features = pd.concat([df_sorted, df_sorted_shifted], axis=1)"
   ]
  },
  {
   "cell_type": "markdown",
   "metadata": {},
   "source": [
    "create indicator if the next observation is still the same scooter"
   ]
  },
  {
   "cell_type": "code",
   "execution_count": 7,
   "metadata": {},
   "outputs": [],
   "source": [
    "df_features['same_scooter'] =  (isNaN(df_features.id_shift) | \n",
    "                                (df_features.id == df_features.id_shift))"
   ]
  },
  {
   "cell_type": "code",
   "execution_count": 8,
   "metadata": {},
   "outputs": [],
   "source": [
    "df_features['parking'] = (((df_features.lat == df_features.lat_shift) & \n",
    "                           (df_features.lon == df_features.lon_shift)) |\n",
    "                          (~ df_features.same_scooter) |\n",
    "                          (isNaN(df_features.lat_shift))).astype(int)"
   ]
  },
  {
   "cell_type": "markdown",
   "metadata": {},
   "source": [
    "We can now calculate the seconds between timestamps and set it to 0 if a scooter was in use to create the total time parking."
   ]
  },
  {
   "cell_type": "code",
   "execution_count": 9,
   "metadata": {},
   "outputs": [],
   "source": [
    "df_features['time_parked'] = [get_timedelta(x) for x in df_features[['time_shift', 'time']].values]\n",
    "df_features.loc[df_features.parking==0 | ~df_features.same_scooter, 'time_parked'] = 0"
   ]
  },
  {
   "cell_type": "markdown",
   "metadata": {},
   "source": [
    "#### distance travelled (proxy via haversine)"
   ]
  },
  {
   "cell_type": "code",
   "execution_count": 10,
   "metadata": {},
   "outputs": [],
   "source": [
    "df_features['distance'] = [calc_distance(x) for x in df_features[['lat', 'lon', 'lat_shift', 'lon_shift']].values]\n",
    "df_features.loc[~df_features.same_scooter, 'distance'] = 0"
   ]
  },
  {
   "cell_type": "code",
   "execution_count": 11,
   "metadata": {},
   "outputs": [
    {
     "data": {
      "text/html": [
       "<div>\n",
       "<style scoped>\n",
       "    .dataframe tbody tr th:only-of-type {\n",
       "        vertical-align: middle;\n",
       "    }\n",
       "\n",
       "    .dataframe tbody tr th {\n",
       "        vertical-align: top;\n",
       "    }\n",
       "\n",
       "    .dataframe thead th {\n",
       "        text-align: right;\n",
       "    }\n",
       "</style>\n",
       "<table border=\"1\" class=\"dataframe\">\n",
       "  <thead>\n",
       "    <tr style=\"text-align: right;\">\n",
       "      <th></th>\n",
       "      <th>id</th>\n",
       "      <th>lat</th>\n",
       "      <th>lon</th>\n",
       "      <th>time</th>\n",
       "      <th>id_shift</th>\n",
       "      <th>lat_shift</th>\n",
       "      <th>lon_shift</th>\n",
       "      <th>time_shift</th>\n",
       "      <th>same_scooter</th>\n",
       "      <th>parking</th>\n",
       "      <th>time_parked</th>\n",
       "      <th>distance</th>\n",
       "    </tr>\n",
       "  </thead>\n",
       "  <tbody>\n",
       "    <tr>\n",
       "      <th>0</th>\n",
       "      <td>ABKIFV</td>\n",
       "      <td>48.186981</td>\n",
       "      <td>16.413081</td>\n",
       "      <td>05:28:11</td>\n",
       "      <td>ABKIFV</td>\n",
       "      <td>48.186981</td>\n",
       "      <td>16.413081</td>\n",
       "      <td>05:29:13</td>\n",
       "      <td>True</td>\n",
       "      <td>1</td>\n",
       "      <td>62.0</td>\n",
       "      <td>0.000000</td>\n",
       "    </tr>\n",
       "    <tr>\n",
       "      <th>1</th>\n",
       "      <td>ABKIFV</td>\n",
       "      <td>48.186981</td>\n",
       "      <td>16.413081</td>\n",
       "      <td>05:29:13</td>\n",
       "      <td>ABKIFV</td>\n",
       "      <td>48.186981</td>\n",
       "      <td>16.413081</td>\n",
       "      <td>05:30:16</td>\n",
       "      <td>True</td>\n",
       "      <td>1</td>\n",
       "      <td>63.0</td>\n",
       "      <td>0.000000</td>\n",
       "    </tr>\n",
       "    <tr>\n",
       "      <th>2</th>\n",
       "      <td>ABKIFV</td>\n",
       "      <td>48.186981</td>\n",
       "      <td>16.413081</td>\n",
       "      <td>05:30:16</td>\n",
       "      <td>ABKIFV</td>\n",
       "      <td>48.186981</td>\n",
       "      <td>16.413081</td>\n",
       "      <td>05:31:19</td>\n",
       "      <td>True</td>\n",
       "      <td>1</td>\n",
       "      <td>63.0</td>\n",
       "      <td>0.000000</td>\n",
       "    </tr>\n",
       "    <tr>\n",
       "      <th>3</th>\n",
       "      <td>ABKIFV</td>\n",
       "      <td>48.186981</td>\n",
       "      <td>16.413081</td>\n",
       "      <td>05:31:19</td>\n",
       "      <td>ABKIFV</td>\n",
       "      <td>48.186981</td>\n",
       "      <td>16.413081</td>\n",
       "      <td>05:32:22</td>\n",
       "      <td>True</td>\n",
       "      <td>1</td>\n",
       "      <td>63.0</td>\n",
       "      <td>0.000000</td>\n",
       "    </tr>\n",
       "    <tr>\n",
       "      <th>4</th>\n",
       "      <td>ABKIFV</td>\n",
       "      <td>48.186981</td>\n",
       "      <td>16.413081</td>\n",
       "      <td>05:32:22</td>\n",
       "      <td>ABKIFV</td>\n",
       "      <td>48.186981</td>\n",
       "      <td>16.413081</td>\n",
       "      <td>05:33:24</td>\n",
       "      <td>True</td>\n",
       "      <td>1</td>\n",
       "      <td>62.0</td>\n",
       "      <td>0.000000</td>\n",
       "    </tr>\n",
       "    <tr>\n",
       "      <th>5</th>\n",
       "      <td>ABKIFV</td>\n",
       "      <td>48.186981</td>\n",
       "      <td>16.413081</td>\n",
       "      <td>05:33:24</td>\n",
       "      <td>ABKIFV</td>\n",
       "      <td>48.186981</td>\n",
       "      <td>16.413081</td>\n",
       "      <td>05:34:27</td>\n",
       "      <td>True</td>\n",
       "      <td>1</td>\n",
       "      <td>63.0</td>\n",
       "      <td>0.000000</td>\n",
       "    </tr>\n",
       "    <tr>\n",
       "      <th>6</th>\n",
       "      <td>ABKIFV</td>\n",
       "      <td>48.186981</td>\n",
       "      <td>16.413081</td>\n",
       "      <td>05:34:27</td>\n",
       "      <td>ABKIFV</td>\n",
       "      <td>48.186981</td>\n",
       "      <td>16.413081</td>\n",
       "      <td>05:35:30</td>\n",
       "      <td>True</td>\n",
       "      <td>1</td>\n",
       "      <td>63.0</td>\n",
       "      <td>0.000000</td>\n",
       "    </tr>\n",
       "    <tr>\n",
       "      <th>7</th>\n",
       "      <td>ABKIFV</td>\n",
       "      <td>48.186981</td>\n",
       "      <td>16.413081</td>\n",
       "      <td>05:35:30</td>\n",
       "      <td>ABKIFV</td>\n",
       "      <td>48.186981</td>\n",
       "      <td>16.413081</td>\n",
       "      <td>05:36:33</td>\n",
       "      <td>True</td>\n",
       "      <td>1</td>\n",
       "      <td>63.0</td>\n",
       "      <td>0.000000</td>\n",
       "    </tr>\n",
       "    <tr>\n",
       "      <th>8</th>\n",
       "      <td>ABKIFV</td>\n",
       "      <td>48.186981</td>\n",
       "      <td>16.413081</td>\n",
       "      <td>05:36:33</td>\n",
       "      <td>ABKIFV</td>\n",
       "      <td>48.186981</td>\n",
       "      <td>16.413081</td>\n",
       "      <td>05:37:35</td>\n",
       "      <td>True</td>\n",
       "      <td>1</td>\n",
       "      <td>62.0</td>\n",
       "      <td>0.000000</td>\n",
       "    </tr>\n",
       "    <tr>\n",
       "      <th>9</th>\n",
       "      <td>ABKIFV</td>\n",
       "      <td>48.186981</td>\n",
       "      <td>16.413081</td>\n",
       "      <td>05:37:35</td>\n",
       "      <td>ABKIFV</td>\n",
       "      <td>48.209058</td>\n",
       "      <td>16.370608</td>\n",
       "      <td>05:38:38</td>\n",
       "      <td>True</td>\n",
       "      <td>0</td>\n",
       "      <td>0.0</td>\n",
       "      <td>3992.029107</td>\n",
       "    </tr>\n",
       "    <tr>\n",
       "      <th>10</th>\n",
       "      <td>ABKIFV</td>\n",
       "      <td>48.209058</td>\n",
       "      <td>16.370608</td>\n",
       "      <td>05:38:38</td>\n",
       "      <td>ABKIFV</td>\n",
       "      <td>48.209093</td>\n",
       "      <td>16.370800</td>\n",
       "      <td>05:39:41</td>\n",
       "      <td>True</td>\n",
       "      <td>0</td>\n",
       "      <td>0.0</td>\n",
       "      <td>14.750270</td>\n",
       "    </tr>\n",
       "    <tr>\n",
       "      <th>11</th>\n",
       "      <td>ABKIFV</td>\n",
       "      <td>48.209093</td>\n",
       "      <td>16.370800</td>\n",
       "      <td>05:39:41</td>\n",
       "      <td>ABKIFV</td>\n",
       "      <td>48.209113</td>\n",
       "      <td>16.370853</td>\n",
       "      <td>05:40:44</td>\n",
       "      <td>True</td>\n",
       "      <td>0</td>\n",
       "      <td>0.0</td>\n",
       "      <td>4.513340</td>\n",
       "    </tr>\n",
       "    <tr>\n",
       "      <th>12</th>\n",
       "      <td>ABKIFV</td>\n",
       "      <td>48.209113</td>\n",
       "      <td>16.370853</td>\n",
       "      <td>05:40:44</td>\n",
       "      <td>ABKIFV</td>\n",
       "      <td>48.209186</td>\n",
       "      <td>16.370948</td>\n",
       "      <td>05:41:47</td>\n",
       "      <td>True</td>\n",
       "      <td>0</td>\n",
       "      <td>0.0</td>\n",
       "      <td>10.744612</td>\n",
       "    </tr>\n",
       "    <tr>\n",
       "      <th>13</th>\n",
       "      <td>ABKIFV</td>\n",
       "      <td>48.209186</td>\n",
       "      <td>16.370948</td>\n",
       "      <td>05:41:47</td>\n",
       "      <td>ABKIFV</td>\n",
       "      <td>48.208985</td>\n",
       "      <td>16.370763</td>\n",
       "      <td>05:42:50</td>\n",
       "      <td>True</td>\n",
       "      <td>0</td>\n",
       "      <td>0.0</td>\n",
       "      <td>26.219553</td>\n",
       "    </tr>\n",
       "    <tr>\n",
       "      <th>14</th>\n",
       "      <td>ABKIFV</td>\n",
       "      <td>48.208985</td>\n",
       "      <td>16.370763</td>\n",
       "      <td>05:42:50</td>\n",
       "      <td>ABKIFV</td>\n",
       "      <td>48.208985</td>\n",
       "      <td>16.370763</td>\n",
       "      <td>05:43:53</td>\n",
       "      <td>True</td>\n",
       "      <td>1</td>\n",
       "      <td>63.0</td>\n",
       "      <td>0.000000</td>\n",
       "    </tr>\n",
       "    <tr>\n",
       "      <th>15</th>\n",
       "      <td>ABKIFV</td>\n",
       "      <td>48.208985</td>\n",
       "      <td>16.370763</td>\n",
       "      <td>05:43:53</td>\n",
       "      <td>ABKIFV</td>\n",
       "      <td>48.208985</td>\n",
       "      <td>16.370763</td>\n",
       "      <td>05:44:55</td>\n",
       "      <td>True</td>\n",
       "      <td>1</td>\n",
       "      <td>62.0</td>\n",
       "      <td>0.000000</td>\n",
       "    </tr>\n",
       "    <tr>\n",
       "      <th>16</th>\n",
       "      <td>ABKIFV</td>\n",
       "      <td>48.208985</td>\n",
       "      <td>16.370763</td>\n",
       "      <td>05:44:55</td>\n",
       "      <td>ABKIFV</td>\n",
       "      <td>48.208985</td>\n",
       "      <td>16.370763</td>\n",
       "      <td>05:45:58</td>\n",
       "      <td>True</td>\n",
       "      <td>1</td>\n",
       "      <td>63.0</td>\n",
       "      <td>0.000000</td>\n",
       "    </tr>\n",
       "    <tr>\n",
       "      <th>17</th>\n",
       "      <td>ABKIFV</td>\n",
       "      <td>48.208985</td>\n",
       "      <td>16.370763</td>\n",
       "      <td>05:45:58</td>\n",
       "      <td>ABKIFV</td>\n",
       "      <td>48.208985</td>\n",
       "      <td>16.370763</td>\n",
       "      <td>05:47:01</td>\n",
       "      <td>True</td>\n",
       "      <td>1</td>\n",
       "      <td>63.0</td>\n",
       "      <td>0.000000</td>\n",
       "    </tr>\n",
       "    <tr>\n",
       "      <th>18</th>\n",
       "      <td>ABKIFV</td>\n",
       "      <td>48.208985</td>\n",
       "      <td>16.370763</td>\n",
       "      <td>05:47:01</td>\n",
       "      <td>ABKIFV</td>\n",
       "      <td>48.208985</td>\n",
       "      <td>16.370763</td>\n",
       "      <td>05:48:04</td>\n",
       "      <td>True</td>\n",
       "      <td>1</td>\n",
       "      <td>63.0</td>\n",
       "      <td>0.000000</td>\n",
       "    </tr>\n",
       "    <tr>\n",
       "      <th>19</th>\n",
       "      <td>ABKIFV</td>\n",
       "      <td>48.208985</td>\n",
       "      <td>16.370763</td>\n",
       "      <td>05:48:04</td>\n",
       "      <td>ABKIFV</td>\n",
       "      <td>48.208985</td>\n",
       "      <td>16.370763</td>\n",
       "      <td>05:49:07</td>\n",
       "      <td>True</td>\n",
       "      <td>1</td>\n",
       "      <td>63.0</td>\n",
       "      <td>0.000000</td>\n",
       "    </tr>\n",
       "  </tbody>\n",
       "</table>\n",
       "</div>"
      ],
      "text/plain": [
       "        id        lat        lon      time id_shift  lat_shift  lon_shift  \\\n",
       "0   ABKIFV  48.186981  16.413081  05:28:11   ABKIFV  48.186981  16.413081   \n",
       "1   ABKIFV  48.186981  16.413081  05:29:13   ABKIFV  48.186981  16.413081   \n",
       "2   ABKIFV  48.186981  16.413081  05:30:16   ABKIFV  48.186981  16.413081   \n",
       "3   ABKIFV  48.186981  16.413081  05:31:19   ABKIFV  48.186981  16.413081   \n",
       "4   ABKIFV  48.186981  16.413081  05:32:22   ABKIFV  48.186981  16.413081   \n",
       "5   ABKIFV  48.186981  16.413081  05:33:24   ABKIFV  48.186981  16.413081   \n",
       "6   ABKIFV  48.186981  16.413081  05:34:27   ABKIFV  48.186981  16.413081   \n",
       "7   ABKIFV  48.186981  16.413081  05:35:30   ABKIFV  48.186981  16.413081   \n",
       "8   ABKIFV  48.186981  16.413081  05:36:33   ABKIFV  48.186981  16.413081   \n",
       "9   ABKIFV  48.186981  16.413081  05:37:35   ABKIFV  48.209058  16.370608   \n",
       "10  ABKIFV  48.209058  16.370608  05:38:38   ABKIFV  48.209093  16.370800   \n",
       "11  ABKIFV  48.209093  16.370800  05:39:41   ABKIFV  48.209113  16.370853   \n",
       "12  ABKIFV  48.209113  16.370853  05:40:44   ABKIFV  48.209186  16.370948   \n",
       "13  ABKIFV  48.209186  16.370948  05:41:47   ABKIFV  48.208985  16.370763   \n",
       "14  ABKIFV  48.208985  16.370763  05:42:50   ABKIFV  48.208985  16.370763   \n",
       "15  ABKIFV  48.208985  16.370763  05:43:53   ABKIFV  48.208985  16.370763   \n",
       "16  ABKIFV  48.208985  16.370763  05:44:55   ABKIFV  48.208985  16.370763   \n",
       "17  ABKIFV  48.208985  16.370763  05:45:58   ABKIFV  48.208985  16.370763   \n",
       "18  ABKIFV  48.208985  16.370763  05:47:01   ABKIFV  48.208985  16.370763   \n",
       "19  ABKIFV  48.208985  16.370763  05:48:04   ABKIFV  48.208985  16.370763   \n",
       "\n",
       "   time_shift  same_scooter  parking  time_parked     distance  \n",
       "0    05:29:13          True        1         62.0     0.000000  \n",
       "1    05:30:16          True        1         63.0     0.000000  \n",
       "2    05:31:19          True        1         63.0     0.000000  \n",
       "3    05:32:22          True        1         63.0     0.000000  \n",
       "4    05:33:24          True        1         62.0     0.000000  \n",
       "5    05:34:27          True        1         63.0     0.000000  \n",
       "6    05:35:30          True        1         63.0     0.000000  \n",
       "7    05:36:33          True        1         63.0     0.000000  \n",
       "8    05:37:35          True        1         62.0     0.000000  \n",
       "9    05:38:38          True        0          0.0  3992.029107  \n",
       "10   05:39:41          True        0          0.0    14.750270  \n",
       "11   05:40:44          True        0          0.0     4.513340  \n",
       "12   05:41:47          True        0          0.0    10.744612  \n",
       "13   05:42:50          True        0          0.0    26.219553  \n",
       "14   05:43:53          True        1         63.0     0.000000  \n",
       "15   05:44:55          True        1         62.0     0.000000  \n",
       "16   05:45:58          True        1         63.0     0.000000  \n",
       "17   05:47:01          True        1         63.0     0.000000  \n",
       "18   05:48:04          True        1         63.0     0.000000  \n",
       "19   05:49:07          True        1         63.0     0.000000  "
      ]
     },
     "execution_count": 11,
     "metadata": {},
     "output_type": "execute_result"
    }
   ],
   "source": [
    "df_features.head(20)"
   ]
  },
  {
   "cell_type": "markdown",
   "metadata": {},
   "source": [
    "We can clearly differ times of usage to times of parking and also see quite some outliers in the distance travelled. For example travelling almost four kilometers within a minute corresponds to 240 km/h and is very unlikely (even with a car, i.e. relocating the scooter) inside a city. Without further domain knowledge we must ignore these outlierst for now."
   ]
  },
  {
   "cell_type": "code",
   "execution_count": 12,
   "metadata": {},
   "outputs": [
    {
     "data": {
      "text/plain": [
       "count    57243.000000\n",
       "mean        61.876936\n",
       "std        272.859576\n",
       "min          0.024710\n",
       "25%          3.763409\n",
       "50%          7.958448\n",
       "75%         19.146028\n",
       "max       8077.506133\n",
       "Name: distance, dtype: float64"
      ]
     },
     "execution_count": 12,
     "metadata": {},
     "output_type": "execute_result"
    }
   ],
   "source": [
    "df_features[df_features.distance>0].distance.describe()"
   ]
  },
  {
   "cell_type": "markdown",
   "metadata": {},
   "source": [
    "On average if a scooter moves, it travels ~ eight meters per minute, which sounds legit."
   ]
  },
  {
   "cell_type": "markdown",
   "metadata": {},
   "source": [
    "### Create features on scooter level"
   ]
  },
  {
   "cell_type": "markdown",
   "metadata": {},
   "source": [
    "Next step is to create valuable features out of these two new insights on a scooter level. Reminder, this is what we have so far:"
   ]
  },
  {
   "cell_type": "code",
   "execution_count": 13,
   "metadata": {},
   "outputs": [
    {
     "data": {
      "text/html": [
       "<div>\n",
       "<style scoped>\n",
       "    .dataframe tbody tr th:only-of-type {\n",
       "        vertical-align: middle;\n",
       "    }\n",
       "\n",
       "    .dataframe tbody tr th {\n",
       "        vertical-align: top;\n",
       "    }\n",
       "\n",
       "    .dataframe thead th {\n",
       "        text-align: right;\n",
       "    }\n",
       "</style>\n",
       "<table border=\"1\" class=\"dataframe\">\n",
       "  <thead>\n",
       "    <tr style=\"text-align: right;\">\n",
       "      <th></th>\n",
       "      <th>n_seen</th>\n",
       "      <th>unique_locs</th>\n",
       "    </tr>\n",
       "  </thead>\n",
       "  <tbody>\n",
       "    <tr>\n",
       "      <th>FPWXUQ</th>\n",
       "      <td>911</td>\n",
       "      <td>93</td>\n",
       "    </tr>\n",
       "    <tr>\n",
       "      <th>NLMWIG</th>\n",
       "      <td>911</td>\n",
       "      <td>46</td>\n",
       "    </tr>\n",
       "    <tr>\n",
       "      <th>ALUIQD</th>\n",
       "      <td>911</td>\n",
       "      <td>21</td>\n",
       "    </tr>\n",
       "    <tr>\n",
       "      <th>RNUSIE</th>\n",
       "      <td>911</td>\n",
       "      <td>40</td>\n",
       "    </tr>\n",
       "    <tr>\n",
       "      <th>JHQBFL</th>\n",
       "      <td>911</td>\n",
       "      <td>59</td>\n",
       "    </tr>\n",
       "  </tbody>\n",
       "</table>\n",
       "</div>"
      ],
      "text/plain": [
       "        n_seen  unique_locs\n",
       "FPWXUQ     911           93\n",
       "NLMWIG     911           46\n",
       "ALUIQD     911           21\n",
       "RNUSIE     911           40\n",
       "JHQBFL     911           59"
      ]
     },
     "execution_count": 13,
     "metadata": {},
     "output_type": "execute_result"
    }
   ],
   "source": [
    "df_scooter_level.head()"
   ]
  },
  {
   "cell_type": "markdown",
   "metadata": {},
   "source": [
    "We aggregate on scooter level for the standard deviation and the total sum of seconds parked and meters travelled."
   ]
  },
  {
   "cell_type": "code",
   "execution_count": 14,
   "metadata": {},
   "outputs": [],
   "source": [
    "df_features_scooter = df_features.groupby('id')[['time_parked', 'distance']].agg(['std', 'sum'])"
   ]
  },
  {
   "cell_type": "code",
   "execution_count": 15,
   "metadata": {},
   "outputs": [],
   "source": [
    "df_features_scooter.columns = ['time_parked_std', 'time_parked_sum', 'distance_std', 'distance_sum']"
   ]
  },
  {
   "cell_type": "markdown",
   "metadata": {},
   "source": [
    "We collect the number of unique three decimal places locations a scooter was seen in."
   ]
  },
  {
   "cell_type": "code",
   "execution_count": 16,
   "metadata": {},
   "outputs": [],
   "source": [
    "df_n_locations = df_sorted[['id', 'lon', 'lat']].set_index('id').apply(lambda x: round(x, 3))\\\n",
    "                                                .drop_duplicates().groupby('id').size()\\\n",
    "                                                .to_frame(name='unique_3dp_locs')"
   ]
  },
  {
   "cell_type": "markdown",
   "metadata": {},
   "source": [
    "And join it all together."
   ]
  },
  {
   "cell_type": "code",
   "execution_count": 17,
   "metadata": {},
   "outputs": [],
   "source": [
    "df_features_scooter = df_features_scooter.merge(df_scooter_level,\n",
    "                                                how='left',\n",
    "                                                left_index=True, \n",
    "                                                right_index=True)\\\n",
    "                                         .merge(df_n_locations,\n",
    "                                                how='left',\n",
    "                                                left_index=True, \n",
    "                                                right_index=True).fillna(0)"
   ]
  },
  {
   "cell_type": "code",
   "execution_count": 18,
   "metadata": {},
   "outputs": [
    {
     "data": {
      "text/html": [
       "<div>\n",
       "<style scoped>\n",
       "    .dataframe tbody tr th:only-of-type {\n",
       "        vertical-align: middle;\n",
       "    }\n",
       "\n",
       "    .dataframe tbody tr th {\n",
       "        vertical-align: top;\n",
       "    }\n",
       "\n",
       "    .dataframe thead th {\n",
       "        text-align: right;\n",
       "    }\n",
       "</style>\n",
       "<table border=\"1\" class=\"dataframe\">\n",
       "  <thead>\n",
       "    <tr style=\"text-align: right;\">\n",
       "      <th></th>\n",
       "      <th>time_parked_std</th>\n",
       "      <th>time_parked_sum</th>\n",
       "      <th>distance_std</th>\n",
       "      <th>distance_sum</th>\n",
       "      <th>n_seen</th>\n",
       "      <th>unique_locs</th>\n",
       "      <th>unique_3dp_locs</th>\n",
       "    </tr>\n",
       "    <tr>\n",
       "      <th>id</th>\n",
       "      <th></th>\n",
       "      <th></th>\n",
       "      <th></th>\n",
       "      <th></th>\n",
       "      <th></th>\n",
       "      <th></th>\n",
       "      <th></th>\n",
       "    </tr>\n",
       "  </thead>\n",
       "  <tbody>\n",
       "    <tr>\n",
       "      <th>ABKIFV</th>\n",
       "      <td>16.675280</td>\n",
       "      <td>47990.0</td>\n",
       "      <td>169.310141</td>\n",
       "      <td>7722.699262</td>\n",
       "      <td>816</td>\n",
       "      <td>60</td>\n",
       "      <td>7.0</td>\n",
       "    </tr>\n",
       "    <tr>\n",
       "      <th>ACODMP</th>\n",
       "      <td>23.729405</td>\n",
       "      <td>46756.0</td>\n",
       "      <td>63.685439</td>\n",
       "      <td>11332.193648</td>\n",
       "      <td>881</td>\n",
       "      <td>146</td>\n",
       "      <td>47.0</td>\n",
       "    </tr>\n",
       "    <tr>\n",
       "      <th>ADIBPW</th>\n",
       "      <td>12.012686</td>\n",
       "      <td>55643.0</td>\n",
       "      <td>2.048582</td>\n",
       "      <td>301.460516</td>\n",
       "      <td>909</td>\n",
       "      <td>33</td>\n",
       "      <td>2.0</td>\n",
       "    </tr>\n",
       "    <tr>\n",
       "      <th>ADKPIH</th>\n",
       "      <td>15.772084</td>\n",
       "      <td>42385.0</td>\n",
       "      <td>44.426778</td>\n",
       "      <td>1685.282999</td>\n",
       "      <td>712</td>\n",
       "      <td>46</td>\n",
       "      <td>4.0</td>\n",
       "    </tr>\n",
       "    <tr>\n",
       "      <th>ADULSM</th>\n",
       "      <td>13.802959</td>\n",
       "      <td>54515.0</td>\n",
       "      <td>31.007958</td>\n",
       "      <td>1626.687718</td>\n",
       "      <td>902</td>\n",
       "      <td>44</td>\n",
       "      <td>4.0</td>\n",
       "    </tr>\n",
       "  </tbody>\n",
       "</table>\n",
       "</div>"
      ],
      "text/plain": [
       "        time_parked_std  time_parked_sum  distance_std  distance_sum  n_seen  \\\n",
       "id                                                                             \n",
       "ABKIFV        16.675280          47990.0    169.310141   7722.699262     816   \n",
       "ACODMP        23.729405          46756.0     63.685439  11332.193648     881   \n",
       "ADIBPW        12.012686          55643.0      2.048582    301.460516     909   \n",
       "ADKPIH        15.772084          42385.0     44.426778   1685.282999     712   \n",
       "ADULSM        13.802959          54515.0     31.007958   1626.687718     902   \n",
       "\n",
       "        unique_locs  unique_3dp_locs  \n",
       "id                                    \n",
       "ABKIFV           60              7.0  \n",
       "ACODMP          146             47.0  \n",
       "ADIBPW           33              2.0  \n",
       "ADKPIH           46              4.0  \n",
       "ADULSM           44              4.0  "
      ]
     },
     "execution_count": 18,
     "metadata": {},
     "output_type": "execute_result"
    }
   ],
   "source": [
    "df_features_scooter.head()"
   ]
  },
  {
   "cell_type": "markdown",
   "metadata": {},
   "source": [
    "This should be enough for an MVP of classifying a scooter's activity/demand."
   ]
  },
  {
   "cell_type": "markdown",
   "metadata": {},
   "source": [
    "### Create features on location level"
   ]
  },
  {
   "cell_type": "markdown",
   "metadata": {},
   "source": [
    "Again, this is what we have so far."
   ]
  },
  {
   "cell_type": "code",
   "execution_count": 19,
   "metadata": {},
   "outputs": [
    {
     "data": {
      "text/html": [
       "<div>\n",
       "<style scoped>\n",
       "    .dataframe tbody tr th:only-of-type {\n",
       "        vertical-align: middle;\n",
       "    }\n",
       "\n",
       "    .dataframe tbody tr th {\n",
       "        vertical-align: top;\n",
       "    }\n",
       "\n",
       "    .dataframe thead th {\n",
       "        text-align: right;\n",
       "    }\n",
       "</style>\n",
       "<table border=\"1\" class=\"dataframe\">\n",
       "  <thead>\n",
       "    <tr style=\"text-align: right;\">\n",
       "      <th></th>\n",
       "      <th>lat</th>\n",
       "      <th>lon</th>\n",
       "      <th>scooter_count</th>\n",
       "      <th>morning_count</th>\n",
       "      <th>evening_count</th>\n",
       "    </tr>\n",
       "  </thead>\n",
       "  <tbody>\n",
       "    <tr>\n",
       "      <th>0</th>\n",
       "      <td>48.185</td>\n",
       "      <td>16.416</td>\n",
       "      <td>2634</td>\n",
       "      <td>61.0</td>\n",
       "      <td>3.0</td>\n",
       "    </tr>\n",
       "    <tr>\n",
       "      <th>1</th>\n",
       "      <td>48.187</td>\n",
       "      <td>16.413</td>\n",
       "      <td>746</td>\n",
       "      <td>18.0</td>\n",
       "      <td>1.0</td>\n",
       "    </tr>\n",
       "    <tr>\n",
       "      <th>2</th>\n",
       "      <td>48.186</td>\n",
       "      <td>16.416</td>\n",
       "      <td>478</td>\n",
       "      <td>17.0</td>\n",
       "      <td>0.0</td>\n",
       "    </tr>\n",
       "    <tr>\n",
       "      <th>3</th>\n",
       "      <td>48.226</td>\n",
       "      <td>16.361</td>\n",
       "      <td>3234</td>\n",
       "      <td>13.0</td>\n",
       "      <td>5.0</td>\n",
       "    </tr>\n",
       "    <tr>\n",
       "      <th>4</th>\n",
       "      <td>48.200</td>\n",
       "      <td>16.365</td>\n",
       "      <td>1993</td>\n",
       "      <td>11.0</td>\n",
       "      <td>1.0</td>\n",
       "    </tr>\n",
       "  </tbody>\n",
       "</table>\n",
       "</div>"
      ],
      "text/plain": [
       "      lat     lon  scooter_count  morning_count  evening_count\n",
       "0  48.185  16.416           2634           61.0            3.0\n",
       "1  48.187  16.413            746           18.0            1.0\n",
       "2  48.186  16.416            478           17.0            0.0\n",
       "3  48.226  16.361           3234           13.0            5.0\n",
       "4  48.200  16.365           1993           11.0            1.0"
      ]
     },
     "execution_count": 19,
     "metadata": {},
     "output_type": "execute_result"
    }
   ],
   "source": [
    "locations_3dp.head()"
   ]
  },
  {
   "cell_type": "markdown",
   "metadata": {},
   "source": [
    "Round the locations to 3 digits."
   ]
  },
  {
   "cell_type": "code",
   "execution_count": 20,
   "metadata": {},
   "outputs": [],
   "source": [
    "df_features_location = df_features\n",
    "for col in ['lat', 'lon', 'lat_shift', 'lon_shift']:\n",
    "    df_features_location[col] = round(df_features[col], 3)"
   ]
  },
  {
   "cell_type": "markdown",
   "metadata": {},
   "source": [
    "Create indicators if a scooter left or entered the zone."
   ]
  },
  {
   "cell_type": "code",
   "execution_count": 21,
   "metadata": {},
   "outputs": [],
   "source": [
    "df_features_location['rent_start'] = ((df_features_location.distance > 0) & \n",
    "                                      (df_features_location.distance.shift(1)==0) &\n",
    "                                      (df_features.same_scooter)).astype(int)"
   ]
  },
  {
   "cell_type": "code",
   "execution_count": 22,
   "metadata": {},
   "outputs": [],
   "source": [
    "df_features_location['zone_left'] = [zone_change(x) for x in \n",
    "                                       df_features_location[['lat', 'lon', 'lat_shift', 'lon_shift']].values]\n",
    "df_features_location.loc[~df_features_location.same_scooter, 'zone_left'] = 0"
   ]
  },
  {
   "cell_type": "code",
   "execution_count": 23,
   "metadata": {},
   "outputs": [],
   "source": [
    "df_features_location['zone_entered'] = df_features_location.zone_left.shift(1).fillna(0).astype(int)"
   ]
  },
  {
   "cell_type": "markdown",
   "metadata": {},
   "source": [
    "Create indicators for rental starts during peak times."
   ]
  },
  {
   "cell_type": "code",
   "execution_count": 24,
   "metadata": {},
   "outputs": [],
   "source": [
    "early_peak = ('5:00:00', '8:29:00')\n",
    "late_peak = ('19:30:00', '20:29:00')"
   ]
  },
  {
   "cell_type": "code",
   "execution_count": 25,
   "metadata": {},
   "outputs": [],
   "source": [
    "df_features_location['early_peak'] = [inside_timeframe(x, early_peak[0], early_peak[1]) \n",
    "                                      for x in df_features['time'].values]\n",
    "df_features_location['late_peak'] = [inside_timeframe(x, late_peak[0], late_peak[1]) \n",
    "                                      for x in df_features['time'].values]"
   ]
  },
  {
   "cell_type": "markdown",
   "metadata": {},
   "source": [
    "Control for an actual rent start."
   ]
  },
  {
   "cell_type": "code",
   "execution_count": 26,
   "metadata": {},
   "outputs": [],
   "source": [
    "df_features_location['early_peak'] = df_features_location.early_peak*df_features_location.rent_start\n",
    "df_features_location['late_peak'] = df_features_location.late_peak*df_features_location.rent_start"
   ]
  },
  {
   "cell_type": "code",
   "execution_count": 27,
   "metadata": {},
   "outputs": [
    {
     "data": {
      "text/html": [
       "<div>\n",
       "<style scoped>\n",
       "    .dataframe tbody tr th:only-of-type {\n",
       "        vertical-align: middle;\n",
       "    }\n",
       "\n",
       "    .dataframe tbody tr th {\n",
       "        vertical-align: top;\n",
       "    }\n",
       "\n",
       "    .dataframe thead th {\n",
       "        text-align: right;\n",
       "    }\n",
       "</style>\n",
       "<table border=\"1\" class=\"dataframe\">\n",
       "  <thead>\n",
       "    <tr style=\"text-align: right;\">\n",
       "      <th></th>\n",
       "      <th>id</th>\n",
       "      <th>lat</th>\n",
       "      <th>lon</th>\n",
       "      <th>time</th>\n",
       "      <th>id_shift</th>\n",
       "      <th>lat_shift</th>\n",
       "      <th>lon_shift</th>\n",
       "      <th>time_shift</th>\n",
       "      <th>same_scooter</th>\n",
       "      <th>parking</th>\n",
       "      <th>time_parked</th>\n",
       "      <th>distance</th>\n",
       "      <th>rent_start</th>\n",
       "      <th>zone_left</th>\n",
       "      <th>zone_entered</th>\n",
       "      <th>early_peak</th>\n",
       "      <th>late_peak</th>\n",
       "    </tr>\n",
       "  </thead>\n",
       "  <tbody>\n",
       "    <tr>\n",
       "      <th>0</th>\n",
       "      <td>ABKIFV</td>\n",
       "      <td>48.187</td>\n",
       "      <td>16.413</td>\n",
       "      <td>05:28:11</td>\n",
       "      <td>ABKIFV</td>\n",
       "      <td>48.187</td>\n",
       "      <td>16.413</td>\n",
       "      <td>05:29:13</td>\n",
       "      <td>True</td>\n",
       "      <td>1</td>\n",
       "      <td>62.0</td>\n",
       "      <td>0.0</td>\n",
       "      <td>0</td>\n",
       "      <td>0</td>\n",
       "      <td>0</td>\n",
       "      <td>0</td>\n",
       "      <td>0</td>\n",
       "    </tr>\n",
       "    <tr>\n",
       "      <th>1</th>\n",
       "      <td>ABKIFV</td>\n",
       "      <td>48.187</td>\n",
       "      <td>16.413</td>\n",
       "      <td>05:29:13</td>\n",
       "      <td>ABKIFV</td>\n",
       "      <td>48.187</td>\n",
       "      <td>16.413</td>\n",
       "      <td>05:30:16</td>\n",
       "      <td>True</td>\n",
       "      <td>1</td>\n",
       "      <td>63.0</td>\n",
       "      <td>0.0</td>\n",
       "      <td>0</td>\n",
       "      <td>0</td>\n",
       "      <td>0</td>\n",
       "      <td>0</td>\n",
       "      <td>0</td>\n",
       "    </tr>\n",
       "    <tr>\n",
       "      <th>2</th>\n",
       "      <td>ABKIFV</td>\n",
       "      <td>48.187</td>\n",
       "      <td>16.413</td>\n",
       "      <td>05:30:16</td>\n",
       "      <td>ABKIFV</td>\n",
       "      <td>48.187</td>\n",
       "      <td>16.413</td>\n",
       "      <td>05:31:19</td>\n",
       "      <td>True</td>\n",
       "      <td>1</td>\n",
       "      <td>63.0</td>\n",
       "      <td>0.0</td>\n",
       "      <td>0</td>\n",
       "      <td>0</td>\n",
       "      <td>0</td>\n",
       "      <td>0</td>\n",
       "      <td>0</td>\n",
       "    </tr>\n",
       "    <tr>\n",
       "      <th>3</th>\n",
       "      <td>ABKIFV</td>\n",
       "      <td>48.187</td>\n",
       "      <td>16.413</td>\n",
       "      <td>05:31:19</td>\n",
       "      <td>ABKIFV</td>\n",
       "      <td>48.187</td>\n",
       "      <td>16.413</td>\n",
       "      <td>05:32:22</td>\n",
       "      <td>True</td>\n",
       "      <td>1</td>\n",
       "      <td>63.0</td>\n",
       "      <td>0.0</td>\n",
       "      <td>0</td>\n",
       "      <td>0</td>\n",
       "      <td>0</td>\n",
       "      <td>0</td>\n",
       "      <td>0</td>\n",
       "    </tr>\n",
       "    <tr>\n",
       "      <th>4</th>\n",
       "      <td>ABKIFV</td>\n",
       "      <td>48.187</td>\n",
       "      <td>16.413</td>\n",
       "      <td>05:32:22</td>\n",
       "      <td>ABKIFV</td>\n",
       "      <td>48.187</td>\n",
       "      <td>16.413</td>\n",
       "      <td>05:33:24</td>\n",
       "      <td>True</td>\n",
       "      <td>1</td>\n",
       "      <td>62.0</td>\n",
       "      <td>0.0</td>\n",
       "      <td>0</td>\n",
       "      <td>0</td>\n",
       "      <td>0</td>\n",
       "      <td>0</td>\n",
       "      <td>0</td>\n",
       "    </tr>\n",
       "  </tbody>\n",
       "</table>\n",
       "</div>"
      ],
      "text/plain": [
       "       id     lat     lon      time id_shift  lat_shift  lon_shift time_shift  \\\n",
       "0  ABKIFV  48.187  16.413  05:28:11   ABKIFV     48.187     16.413   05:29:13   \n",
       "1  ABKIFV  48.187  16.413  05:29:13   ABKIFV     48.187     16.413   05:30:16   \n",
       "2  ABKIFV  48.187  16.413  05:30:16   ABKIFV     48.187     16.413   05:31:19   \n",
       "3  ABKIFV  48.187  16.413  05:31:19   ABKIFV     48.187     16.413   05:32:22   \n",
       "4  ABKIFV  48.187  16.413  05:32:22   ABKIFV     48.187     16.413   05:33:24   \n",
       "\n",
       "   same_scooter  parking  time_parked  distance  rent_start  zone_left  \\\n",
       "0          True        1         62.0       0.0           0          0   \n",
       "1          True        1         63.0       0.0           0          0   \n",
       "2          True        1         63.0       0.0           0          0   \n",
       "3          True        1         63.0       0.0           0          0   \n",
       "4          True        1         62.0       0.0           0          0   \n",
       "\n",
       "   zone_entered  early_peak  late_peak  \n",
       "0             0           0          0  \n",
       "1             0           0          0  \n",
       "2             0           0          0  \n",
       "3             0           0          0  \n",
       "4             0           0          0  "
      ]
     },
     "execution_count": 27,
     "metadata": {},
     "output_type": "execute_result"
    }
   ],
   "source": [
    "df_features_location.head()"
   ]
  },
  {
   "cell_type": "markdown",
   "metadata": {},
   "source": [
    "Aggregate values to zone level and merge with location dataframe. First the indicators."
   ]
  },
  {
   "cell_type": "code",
   "execution_count": 28,
   "metadata": {},
   "outputs": [],
   "source": [
    "df_features_location_ind = df_features_location.groupby(['lat', 'lon'])[['zone_entered', 'zone_left',\n",
    "                                                                         'rent_start',\n",
    "                                                                         'early_peak', 'late_peak']]\\\n",
    "                                               .agg('sum').fillna(0)"
   ]
  },
  {
   "cell_type": "markdown",
   "metadata": {},
   "source": [
    "Then the metrical ones, where we also want the standard deviation."
   ]
  },
  {
   "cell_type": "code",
   "execution_count": 29,
   "metadata": {},
   "outputs": [],
   "source": [
    "df_features_location_met = df_features_location.groupby(['lat', 'lon'])[['time_parked', 'distance']]\\\n",
    "                                               .agg(['std', 'sum']).fillna(0)\n",
    "df_features_location_met.columns = ['time_parked_std', 'time_parked_sum', \n",
    "                                    'distance_std', 'distance_sum']"
   ]
  },
  {
   "cell_type": "markdown",
   "metadata": {},
   "source": [
    "Now join together."
   ]
  },
  {
   "cell_type": "code",
   "execution_count": 30,
   "metadata": {},
   "outputs": [],
   "source": [
    "df_features_location = df_features_location_met.merge(df_features_location_ind, how='outer',\n",
    "                                                      left_index=True, right_index=True)"
   ]
  },
  {
   "cell_type": "code",
   "execution_count": 31,
   "metadata": {},
   "outputs": [
    {
     "data": {
      "text/html": [
       "<div>\n",
       "<style scoped>\n",
       "    .dataframe tbody tr th:only-of-type {\n",
       "        vertical-align: middle;\n",
       "    }\n",
       "\n",
       "    .dataframe tbody tr th {\n",
       "        vertical-align: top;\n",
       "    }\n",
       "\n",
       "    .dataframe thead th {\n",
       "        text-align: right;\n",
       "    }\n",
       "</style>\n",
       "<table border=\"1\" class=\"dataframe\">\n",
       "  <thead>\n",
       "    <tr style=\"text-align: right;\">\n",
       "      <th></th>\n",
       "      <th></th>\n",
       "      <th>time_parked_std</th>\n",
       "      <th>time_parked_sum</th>\n",
       "      <th>distance_std</th>\n",
       "      <th>distance_sum</th>\n",
       "      <th>zone_entered</th>\n",
       "      <th>zone_left</th>\n",
       "      <th>rent_start</th>\n",
       "      <th>early_peak</th>\n",
       "      <th>late_peak</th>\n",
       "    </tr>\n",
       "    <tr>\n",
       "      <th>lat</th>\n",
       "      <th>lon</th>\n",
       "      <th></th>\n",
       "      <th></th>\n",
       "      <th></th>\n",
       "      <th></th>\n",
       "      <th></th>\n",
       "      <th></th>\n",
       "      <th></th>\n",
       "      <th></th>\n",
       "      <th></th>\n",
       "    </tr>\n",
       "  </thead>\n",
       "  <tbody>\n",
       "    <tr>\n",
       "      <th>48.185</th>\n",
       "      <th>16.416</th>\n",
       "      <td>25.649346</td>\n",
       "      <td>130711.0</td>\n",
       "      <td>549.008378</td>\n",
       "      <td>182582.614506</td>\n",
       "      <td>103</td>\n",
       "      <td>161</td>\n",
       "      <td>123</td>\n",
       "      <td>89</td>\n",
       "      <td>0</td>\n",
       "    </tr>\n",
       "    <tr>\n",
       "      <th>48.200</th>\n",
       "      <th>16.361</th>\n",
       "      <td>13.678259</td>\n",
       "      <td>341469.0</td>\n",
       "      <td>2.670900</td>\n",
       "      <td>2469.462988</td>\n",
       "      <td>8</td>\n",
       "      <td>5</td>\n",
       "      <td>105</td>\n",
       "      <td>13</td>\n",
       "      <td>17</td>\n",
       "    </tr>\n",
       "    <tr>\n",
       "      <th>48.194</th>\n",
       "      <th>16.362</th>\n",
       "      <td>12.855193</td>\n",
       "      <td>242094.0</td>\n",
       "      <td>27.337896</td>\n",
       "      <td>3883.813035</td>\n",
       "      <td>3</td>\n",
       "      <td>3</td>\n",
       "      <td>100</td>\n",
       "      <td>16</td>\n",
       "      <td>13</td>\n",
       "    </tr>\n",
       "    <tr>\n",
       "      <th>48.196</th>\n",
       "      <th>16.339</th>\n",
       "      <td>14.677699</td>\n",
       "      <td>275893.0</td>\n",
       "      <td>64.335619</td>\n",
       "      <td>15939.956328</td>\n",
       "      <td>49</td>\n",
       "      <td>51</td>\n",
       "      <td>99</td>\n",
       "      <td>31</td>\n",
       "      <td>5</td>\n",
       "    </tr>\n",
       "    <tr>\n",
       "      <th>48.199</th>\n",
       "      <th>16.367</th>\n",
       "      <td>15.797097</td>\n",
       "      <td>172589.0</td>\n",
       "      <td>32.148110</td>\n",
       "      <td>5093.076190</td>\n",
       "      <td>18</td>\n",
       "      <td>20</td>\n",
       "      <td>94</td>\n",
       "      <td>13</td>\n",
       "      <td>11</td>\n",
       "    </tr>\n",
       "  </tbody>\n",
       "</table>\n",
       "</div>"
      ],
      "text/plain": [
       "               time_parked_std  time_parked_sum  distance_std   distance_sum  \\\n",
       "lat    lon                                                                     \n",
       "48.185 16.416        25.649346         130711.0    549.008378  182582.614506   \n",
       "48.200 16.361        13.678259         341469.0      2.670900    2469.462988   \n",
       "48.194 16.362        12.855193         242094.0     27.337896    3883.813035   \n",
       "48.196 16.339        14.677699         275893.0     64.335619   15939.956328   \n",
       "48.199 16.367        15.797097         172589.0     32.148110    5093.076190   \n",
       "\n",
       "               zone_entered  zone_left  rent_start  early_peak  late_peak  \n",
       "lat    lon                                                                 \n",
       "48.185 16.416           103        161         123          89          0  \n",
       "48.200 16.361             8          5         105          13         17  \n",
       "48.194 16.362             3          3         100          16         13  \n",
       "48.196 16.339            49         51          99          31          5  \n",
       "48.199 16.367            18         20          94          13         11  "
      ]
     },
     "execution_count": 31,
     "metadata": {},
     "output_type": "execute_result"
    }
   ],
   "source": [
    "df_features_location.sort_values('rent_start', ascending=False).head()"
   ]
  },
  {
   "cell_type": "markdown",
   "metadata": {},
   "source": [
    "Define coordinates of location as indexes."
   ]
  },
  {
   "cell_type": "code",
   "execution_count": 32,
   "metadata": {},
   "outputs": [],
   "source": [
    "for col in ['lat', 'lon']:\n",
    "    locations_3dp[col] = round(locations_3dp[col], 3) # redo rounding to have exact same values\n",
    "locations_3dp.set_index(['lat', 'lon'], inplace=True)"
   ]
  },
  {
   "cell_type": "code",
   "execution_count": 33,
   "metadata": {},
   "outputs": [],
   "source": [
    "df_features_location = locations_3dp.merge(df_features_location, how='outer', \n",
    "                                           left_index=True, right_index=True)"
   ]
  },
  {
   "cell_type": "code",
   "execution_count": 34,
   "metadata": {},
   "outputs": [
    {
     "data": {
      "text/html": [
       "<div>\n",
       "<style scoped>\n",
       "    .dataframe tbody tr th:only-of-type {\n",
       "        vertical-align: middle;\n",
       "    }\n",
       "\n",
       "    .dataframe tbody tr th {\n",
       "        vertical-align: top;\n",
       "    }\n",
       "\n",
       "    .dataframe thead th {\n",
       "        text-align: right;\n",
       "    }\n",
       "</style>\n",
       "<table border=\"1\" class=\"dataframe\">\n",
       "  <thead>\n",
       "    <tr style=\"text-align: right;\">\n",
       "      <th></th>\n",
       "      <th></th>\n",
       "      <th>scooter_count</th>\n",
       "      <th>morning_count</th>\n",
       "      <th>evening_count</th>\n",
       "      <th>time_parked_std</th>\n",
       "      <th>time_parked_sum</th>\n",
       "      <th>distance_std</th>\n",
       "      <th>distance_sum</th>\n",
       "      <th>zone_entered</th>\n",
       "      <th>zone_left</th>\n",
       "      <th>rent_start</th>\n",
       "      <th>early_peak</th>\n",
       "      <th>late_peak</th>\n",
       "    </tr>\n",
       "    <tr>\n",
       "      <th>lat</th>\n",
       "      <th>lon</th>\n",
       "      <th></th>\n",
       "      <th></th>\n",
       "      <th></th>\n",
       "      <th></th>\n",
       "      <th></th>\n",
       "      <th></th>\n",
       "      <th></th>\n",
       "      <th></th>\n",
       "      <th></th>\n",
       "      <th></th>\n",
       "      <th></th>\n",
       "      <th></th>\n",
       "    </tr>\n",
       "  </thead>\n",
       "  <tbody>\n",
       "    <tr>\n",
       "      <th>48.185</th>\n",
       "      <th>16.416</th>\n",
       "      <td>2634</td>\n",
       "      <td>61.0</td>\n",
       "      <td>3.0</td>\n",
       "      <td>25.649346</td>\n",
       "      <td>130711.0</td>\n",
       "      <td>549.008378</td>\n",
       "      <td>182582.614506</td>\n",
       "      <td>103</td>\n",
       "      <td>161</td>\n",
       "      <td>123</td>\n",
       "      <td>89</td>\n",
       "      <td>0</td>\n",
       "    </tr>\n",
       "    <tr>\n",
       "      <th>48.187</th>\n",
       "      <th>16.413</th>\n",
       "      <td>746</td>\n",
       "      <td>18.0</td>\n",
       "      <td>1.0</td>\n",
       "      <td>23.181728</td>\n",
       "      <td>39271.0</td>\n",
       "      <td>536.650062</td>\n",
       "      <td>75663.369909</td>\n",
       "      <td>21</td>\n",
       "      <td>38</td>\n",
       "      <td>47</td>\n",
       "      <td>43</td>\n",
       "      <td>4</td>\n",
       "    </tr>\n",
       "    <tr>\n",
       "      <th>48.186</th>\n",
       "      <th>16.416</th>\n",
       "      <td>478</td>\n",
       "      <td>17.0</td>\n",
       "      <td>0.0</td>\n",
       "      <td>24.785012</td>\n",
       "      <td>24392.0</td>\n",
       "      <td>279.621734</td>\n",
       "      <td>15870.912956</td>\n",
       "      <td>37</td>\n",
       "      <td>54</td>\n",
       "      <td>28</td>\n",
       "      <td>23</td>\n",
       "      <td>0</td>\n",
       "    </tr>\n",
       "    <tr>\n",
       "      <th>48.226</th>\n",
       "      <th>16.361</th>\n",
       "      <td>3234</td>\n",
       "      <td>13.0</td>\n",
       "      <td>5.0</td>\n",
       "      <td>16.054756</td>\n",
       "      <td>191409.0</td>\n",
       "      <td>36.001789</td>\n",
       "      <td>8961.148129</td>\n",
       "      <td>17</td>\n",
       "      <td>25</td>\n",
       "      <td>71</td>\n",
       "      <td>30</td>\n",
       "      <td>6</td>\n",
       "    </tr>\n",
       "    <tr>\n",
       "      <th>48.200</th>\n",
       "      <th>16.365</th>\n",
       "      <td>1993</td>\n",
       "      <td>11.0</td>\n",
       "      <td>1.0</td>\n",
       "      <td>19.056158</td>\n",
       "      <td>113893.0</td>\n",
       "      <td>27.913234</td>\n",
       "      <td>4711.171794</td>\n",
       "      <td>2</td>\n",
       "      <td>12</td>\n",
       "      <td>47</td>\n",
       "      <td>9</td>\n",
       "      <td>2</td>\n",
       "    </tr>\n",
       "  </tbody>\n",
       "</table>\n",
       "</div>"
      ],
      "text/plain": [
       "               scooter_count  morning_count  evening_count  time_parked_std  \\\n",
       "lat    lon                                                                    \n",
       "48.185 16.416           2634           61.0            3.0        25.649346   \n",
       "48.187 16.413            746           18.0            1.0        23.181728   \n",
       "48.186 16.416            478           17.0            0.0        24.785012   \n",
       "48.226 16.361           3234           13.0            5.0        16.054756   \n",
       "48.200 16.365           1993           11.0            1.0        19.056158   \n",
       "\n",
       "               time_parked_sum  distance_std   distance_sum  zone_entered  \\\n",
       "lat    lon                                                                  \n",
       "48.185 16.416         130711.0    549.008378  182582.614506           103   \n",
       "48.187 16.413          39271.0    536.650062   75663.369909            21   \n",
       "48.186 16.416          24392.0    279.621734   15870.912956            37   \n",
       "48.226 16.361         191409.0     36.001789    8961.148129            17   \n",
       "48.200 16.365         113893.0     27.913234    4711.171794             2   \n",
       "\n",
       "               zone_left  rent_start  early_peak  late_peak  \n",
       "lat    lon                                                   \n",
       "48.185 16.416        161         123          89          0  \n",
       "48.187 16.413         38          47          43          4  \n",
       "48.186 16.416         54          28          23          0  \n",
       "48.226 16.361         25          71          30          6  \n",
       "48.200 16.365         12          47           9          2  "
      ]
     },
     "execution_count": 34,
     "metadata": {},
     "output_type": "execute_result"
    }
   ],
   "source": [
    "df_features_location.sort_values('morning_count', ascending=False).head()"
   ]
  },
  {
   "cell_type": "markdown",
   "metadata": {},
   "source": [
    "This should be enough for an MVP of clustering a location's activity/demand."
   ]
  },
  {
   "cell_type": "markdown",
   "metadata": {},
   "source": [
    "## Saving results"
   ]
  },
  {
   "cell_type": "markdown",
   "metadata": {},
   "source": [
    "Before we create our reallocation recommendation, we want to save our dataframes."
   ]
  },
  {
   "cell_type": "code",
   "execution_count": 35,
   "metadata": {},
   "outputs": [
    {
     "name": "stdout",
     "output_type": "stream",
     "text": [
      "(997, 7)\n",
      "(2050, 12)\n"
     ]
    }
   ],
   "source": [
    "print(df_features_scooter.shape)\n",
    "print(df_features_location.shape)"
   ]
  },
  {
   "cell_type": "code",
   "execution_count": 36,
   "metadata": {},
   "outputs": [],
   "source": [
    "df_features_scooter.to_csv('data/features_scooter.csv')\n",
    "df_features_location.to_csv('data/features_location.csv')"
   ]
  },
  {
   "cell_type": "code",
   "execution_count": null,
   "metadata": {},
   "outputs": [],
   "source": []
  }
 ],
 "metadata": {
  "kernelspec": {
   "display_name": "Python 3",
   "language": "python",
   "name": "python3"
  },
  "language_info": {
   "codemirror_mode": {
    "name": "ipython",
    "version": 3
   },
   "file_extension": ".py",
   "mimetype": "text/x-python",
   "name": "python",
   "nbconvert_exporter": "python",
   "pygments_lexer": "ipython3",
   "version": "3.6.5"
  }
 },
 "nbformat": 4,
 "nbformat_minor": 2
}
